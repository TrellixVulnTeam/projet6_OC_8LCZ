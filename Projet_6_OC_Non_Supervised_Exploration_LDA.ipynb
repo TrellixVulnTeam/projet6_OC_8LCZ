{
 "cells": [
  {
   "cell_type": "markdown",
   "metadata": {
    "collapsed": true
   },
   "source": [
    "# Catégoriser automatiquement des questions : OC projet 6 #"
   ]
  },
  {
   "cell_type": "markdown",
   "metadata": {},
   "source": [
    "## Traitement de notre problématique: Modélisation par une approche non supervisée  ##"
   ]
  },
  {
   "cell_type": "markdown",
   "metadata": {},
   "source": [
    "Après avoir exploré notre jeu de données et procédé au nettoyage du jeu de données, nous allons dans cette première partie commencer par une approche non supervisée afin de déterminer notre capacité à tagger les questions en cohérence avec les tags rentrés en manuel par l'utilisateur. Afin de réaliser cette approche, nous allons utiliser deux méthodes d'exploration non supervisée de données textuelles classique : l'algorithme LDA pour LatentDirichletAllocation et l'algorithme NMF. Ces deux algorithmes sont basés sur un décomposition des données textuelles en bag of words sur la forme d'une matrice de vobulaire où l'on va compter la fréquence des mots (approche fréquence de mots suivi de l'algorithme LDA) et une matrice où l'on comtera la fréquence des mots respectives à leur apparition dans les différents documents (tf_idf suivi d'une réduction dimensionelle par une opération de factorisation matricielle particulière, la NMF).\n"
   ]
  },
  {
   "cell_type": "markdown",
   "metadata": {},
   "source": [
    "## Importation de notre jeu de données ##"
   ]
  },
  {
   "cell_type": "markdown",
   "metadata": {},
   "source": [
    "Nous récupérerons directement le jeu de données issu des traitements de notre exploration de données."
   ]
  },
  {
   "cell_type": "markdown",
   "metadata": {},
   "source": [
    "## I - Importation des librairies: ##"
   ]
  },
  {
   "cell_type": "code",
   "execution_count": 108,
   "metadata": {
    "collapsed": true
   },
   "outputs": [],
   "source": [
    "import pandas as pd\n",
    "import numpy as np\n",
    "import nltk\n",
    "import seaborn as sns\n",
    "import matplotlib.pyplot as plt\n",
    "import string\n",
    "import re\n",
    "\n",
    "from bs4 import BeautifulSoup\n",
    "from nltk.corpus import stopwords\n",
    "from nltk.stem import WordNetLemmatizer\n",
    "from nltk.corpus import wordnet\n",
    "from nltk.stem.snowball import SnowballStemmer\n",
    "from nltk.tokenize import word_tokenize\n",
    "\n",
    "from sklearn.feature_extraction.text import TfidfVectorizer, CountVectorizer\n",
    "from sklearn.decomposition import LatentDirichletAllocation, NMF\n",
    "from sklearn.model_selection import train_test_split\n",
    "from sklearn.model_selection import GridSearchCV\n",
    "\n",
    "import pyLDAvis\n",
    "import pyLDAvis.sklearn\n",
    "\n",
    "from PIL import Image\n",
    "from wordcloud import WordCloud, ImageColorGenerator\n",
    "from IPython.core.display import Image, display, HTML"
   ]
  },
  {
   "cell_type": "code",
   "execution_count": 5,
   "metadata": {
    "collapsed": true
   },
   "outputs": [],
   "source": [
    "def line_treatment(line, list_words, tokenizer):\n",
    "    \"\"\" Fonction qui traite une liste de mots en entrée\n",
    "    et ressort un bag of words avec RegexTokenizer\n",
    "    \"\"\"\n",
    "    list_to_include = []\n",
    "    list_to_drop = []\n",
    "    line = line.lower()\n",
    "    for mot in list_words:\n",
    "        if(mot in line.lower()):\n",
    "            list_to_include.append(mot)\n",
    "            list_to_drop.append(tokenizer.tokenize(mot)[0])\n",
    "    \n",
    "    vocab = tokenizer.tokenize(line)\n",
    "    \n",
    "    for inc in list_to_include:\n",
    "        for w in vocab:\n",
    "            if(w == tokenizer.tokenize(inc)[0]):\n",
    "                vocab.remove(w)\n",
    "                vocab.append(inc)\n",
    "    return vocab"
   ]
  },
  {
   "cell_type": "code",
   "execution_count": 6,
   "metadata": {
    "collapsed": true
   },
   "outputs": [],
   "source": [
    "def remove_stopwords(vocab):\n",
    "    \"\"\" Fonction qui traite les stopwords\n",
    "    contenues dans la chaine de mots vocab\n",
    "    \"\"\"\n",
    "    total_list = list(stopwords.words(\"English\"))\n",
    "    custom_list = [\"to\", \"use\", \"can\", \"the\", \"get\", \"is\", \"doe\", \"way\", \"two\"\n",
    "                  \"one\", \"an\", \"there\", \"are\", \"new\", \"like\", \"using\", \"vs\", \"without\"]\n",
    "    total_list = total_list + custom_list\n",
    "    vocab_copy = vocab.copy()\n",
    "    for w in vocab:\n",
    "        if w in total_list:\n",
    "            vocab_copy.remove(w)\n",
    "    vocab_copy2 = vocab_copy.copy()\n",
    "    for w in vocab_copy:\n",
    "        if len(w) < 2:\n",
    "            vocab_copy2.remove(w)\n",
    "    return vocab_copy2"
   ]
  },
  {
   "cell_type": "code",
   "execution_count": 7,
   "metadata": {
    "collapsed": true
   },
   "outputs": [],
   "source": [
    "def get_wordnet_pos(treebank_tag):\n",
    "        \"\"\"\n",
    "        return WORDNET POS compliance to WORDENT lemmatization (a,n,r,v) \n",
    "        \"\"\"\n",
    "        if treebank_tag.startswith('J'):\n",
    "            return wordnet.ADJ\n",
    "        elif treebank_tag.startswith('V'):\n",
    "            return wordnet.VERB\n",
    "        elif treebank_tag.startswith('N'):\n",
    "            return wordnet.NOUN\n",
    "        elif treebank_tag.startswith('R'):\n",
    "            return wordnet.ADV\n",
    "        else:\n",
    "            # As default pos in lemmatization is Noun\n",
    "            return wordnet.NOUN"
   ]
  },
  {
   "cell_type": "code",
   "execution_count": 8,
   "metadata": {
    "collapsed": true
   },
   "outputs": [],
   "source": [
    "def lemm_fonction(tokens):\n",
    "    \"\"\" Fonction qui renvoie une liste lemmatizer\"\"\"\n",
    "    lemm = []\n",
    "    lemmatizer = WordNetLemmatizer()\n",
    "    tagged = nltk.pos_tag(tokens)\n",
    "    for word, tag in tagged:\n",
    "        wntag = get_wordnet_pos(tag)\n",
    "        if wntag is None:# not supply tag in case of None\n",
    "            lemma = lemmatizer.lemmatize(word) \n",
    "        else:\n",
    "            lemma = lemmatizer.lemmatize(word, pos=wntag)\n",
    "        if wntag == wordnet.NOUN:\n",
    "            lemm.append(lemma)\n",
    "    return lemm"
   ]
  },
  {
   "cell_type": "code",
   "execution_count": 9,
   "metadata": {
    "collapsed": true
   },
   "outputs": [],
   "source": [
    "def tokenizer_idf(text):\n",
    "    \"\"\"Tokenizer traitant nos données d'entrée de tf_idf\n",
    "    \"\"\"\n",
    "    capwork_tokenizer = nltk.tokenize.RegexpTokenizer(r'[a-zA-Z]+')\n",
    "    list_words_to_keep = [\".net\", \"c++\", \"c#\",\"sql-server\", \"asp.net\", \n",
    "                          'ruby-on-rails', 'objective-c', 'visual-studio']\n",
    "    stemmer = SnowballStemmer(\"english\")\n",
    "    response = line_treatment(text, list_words_to_keep, capwork_tokenizer)\n",
    "    #response2 = [stemmer.stem(w) for w in response]\n",
    "    response3  = lemm_fonction(response)\n",
    "    return remove_stopwords(response3)"
   ]
  },
  {
   "cell_type": "code",
   "execution_count": 10,
   "metadata": {
    "collapsed": true
   },
   "outputs": [],
   "source": [
    "def count_null(df, x):\n",
    "    \"\"\"Fonction qui compte le % de données nulles\n",
    "    dans la colonne x d'un tableau df\n",
    "    \"\"\"\n",
    "    a = round((df[x].count() / table_raw.shape[0] * 100), 2)\n",
    "    return float(\"%.2f\" % a)"
   ]
  },
  {
   "cell_type": "code",
   "execution_count": 11,
   "metadata": {
    "collapsed": true
   },
   "outputs": [],
   "source": [
    "def print_top_words(model, feature_names, n_top_words):\n",
    "    \"\"\" Fonction qui renvoie les mots les plus fréquents\n",
    "    d'un theme identifié par model avec son dictionnaire\n",
    "    feature_name\n",
    "    s\"\"\"\n",
    "    for topic_idx, topic in enumerate(model.components_):\n",
    "        message = \"Topic #%d: \" % topic_idx\n",
    "        message += \" \".join([feature_names[i]\n",
    "                             for i in topic.argsort()[:-n_top_words - 1:-1]])\n",
    "        print(message)"
   ]
  },
  {
   "cell_type": "code",
   "execution_count": 157,
   "metadata": {
    "collapsed": true
   },
   "outputs": [],
   "source": [
    "def get_rwk(lamb, phi, pw):\n",
    "    \"\"\" Fonction renvoyant la relevance des mots\n",
    "    contenu dans ne vocabulaire\n",
    "    \"\"\"\n",
    "    rw = np.array(phi)\n",
    "    temp = np.array(phi)\n",
    "    temp2 = np.array(pw)\n",
    "    for w in range(temp.shape[1]):\n",
    "        for k in range(temp.shape[0]):\n",
    "            rw[k, w] = lamb * np.log(temp[k, w]) + (1-lamb) * np.log(temp[k, w] / temp2[w][0])\n",
    "    return rw"
   ]
  },
  {
   "cell_type": "code",
   "execution_count": 13,
   "metadata": {
    "collapsed": true
   },
   "outputs": [],
   "source": [
    "def return_relevant_tags(topic, feature_names, rwk, n_top_words):\n",
    "    \"\"\" Fonction qui renvoie les mots les plus adéquates \n",
    "    en fonction du rwk et du topic prédit\n",
    "    \"\"\"\n",
    "    relevance = np.array(rwk)\n",
    "    list_tags = list()\n",
    "    for i in relevance[topic, :].argsort()[-1: -n_top_words: -1]:\n",
    "         list_tags.append(feature_names[i])\n",
    "    # message = \"Topic #%d: \" % topic\n",
    "    #message += \" \".join([feature_names[i] for i in relevance[topic, :].argsort()[-1: -n_top_words: -1]])\n",
    "    #list_tags.append(message) \n",
    "    return list_tags"
   ]
  },
  {
   "cell_type": "code",
   "execution_count": 14,
   "metadata": {
    "collapsed": true
   },
   "outputs": [],
   "source": [
    "def return_main_topic(model_out):\n",
    "    \"\"\" Fonction qui renvoie le topic prédit\n",
    "    en allant chercher le thème majoritaire\n",
    "    model_out\n",
    "    \"\"\"\n",
    "    list_topics = list()\n",
    "    for index, probabilities in enumerate(model_out):\n",
    "        list_topics.append(probabilities.argsort()[-1])\n",
    "    return list_topics"
   ]
  },
  {
   "cell_type": "code",
   "execution_count": 102,
   "metadata": {
    "collapsed": true
   },
   "outputs": [],
   "source": [
    "def get_tagging_score(y_tag_true, y_tag_predit):\n",
    "    \"\"\" Fonction qui renvoie le nombre de tags vrai\n",
    "    prédit dans la liste prédite\"\"\"\n",
    "    score_test = list()\n",
    "    for (x, y) in zip(y_tag_true, y_tag_predit):\n",
    "        score_test.append(len(set(x) & set(y))/len(set(x)))\n",
    "    return sum(score_test)/len(score_test)"
   ]
  },
  {
   "cell_type": "markdown",
   "metadata": {},
   "source": [
    "## Fonction d'évaluation de la qualité des tags obtenus : ##"
   ]
  },
  {
   "cell_type": "markdown",
   "metadata": {},
   "source": [
    "Afin d'évaluer la qualité des tags obtenue, nous allons les comparer aux tags remplis par les utilisateurs. Afin d'évaluer la précision du tagging obtenu par une approche supervisée, nous utiliserons une fonction qui comparera le nombre de tags pertinent (nous fournirons 5) fourni en commun avec les tags remplis. \n",
    "\n",
    "Ci-joint un exemple de score obtenu en comparant des listes de tags :"
   ]
  },
  {
   "cell_type": "code",
   "execution_count": 278,
   "metadata": {},
   "outputs": [
    {
     "data": {
      "text/plain": [
       "0.3333333333333333"
      ]
     },
     "execution_count": 278,
     "metadata": {},
     "output_type": "execute_result"
    }
   ],
   "source": [
    "get_tagging_score([[\"unit\",\"testing\",\"jsp\"]],[[\"java\",\"eclipse\",\"jsp\"]])"
   ]
  },
  {
   "cell_type": "code",
   "execution_count": 280,
   "metadata": {},
   "outputs": [
    {
     "data": {
      "text/plain": [
       "0.6666666666666666"
      ]
     },
     "execution_count": 280,
     "metadata": {},
     "output_type": "execute_result"
    }
   ],
   "source": [
    "get_tagging_score([[\"python\",\"test\",\"foo\"]],[[\"python\",\"object\",\"foo\"]])"
   ]
  },
  {
   "cell_type": "markdown",
   "metadata": {},
   "source": [
    "## Exploration non supervisée en utilisant la méthode Latent Dirichlet Allocation : ##"
   ]
  },
  {
   "cell_type": "markdown",
   "metadata": {},
   "source": [
    "Approche retenue:\n",
    "\n",
    "- transformation de notre corpus de document sous format vectoriel grâce à la fonction CountVectorizer, avec un pré-traitement des mots réalisés avec notre propre tokenizer. On retiendra uniquement dans notre vocabulaire les mots présents dans au moins 0.1 % des documents et dans au maximum 30% des documents. Ce premier modèle considéra uniquement les mots de manière unigrammes.\n",
    "- Nous exploiterons les possibilités de la fonction GridSearchCV afin d'optimiser la vraisemblance du modèle en fonction du nombre de thèmes retenus et du paramètre learning du modèle LDA. Une fois ces critères identifiés, nous ferons converger l'algorithme avec un nombre d'itérations importants afin d'assurer la convergence de l'algorithme en fonction de la pertinence des résultats des thèmes obtenus. Nous visualiserons ces thèmes à l'aide de l'outil pyLDAvis afin de mieux comprendre les thèmes identifiés."
   ]
  },
  {
   "cell_type": "markdown",
   "metadata": {},
   "source": [
    "### Transformation de notre texte en bag of words à partir de la fréquence d'apparitions des mots : ###"
   ]
  },
  {
   "cell_type": "code",
   "execution_count": 2,
   "metadata": {
    "collapsed": true
   },
   "outputs": [],
   "source": [
    "table_travail = pd.read_json(\"table_model.json\")\n",
    "bow_tags = [y for x in table_travail[\"Tags\"] \n",
    "            for y in x]\n",
    "f_dist_tags = nltk.FreqDist(bow_tags)\n",
    "bow_bodytitle = [y for x in table_travail[\"BodyTitle\"] \n",
    "                 for y in tokenizer_idf(x)]\n",
    "f_dist_bodytitle = nltk.FreqDist(bow_bodytitle)"
   ]
  },
  {
   "cell_type": "code",
   "execution_count": 3,
   "metadata": {
    "collapsed": true
   },
   "outputs": [],
   "source": [
    "# Définition des paramètres min_df et max_df obtenus par fine-tuning.\n",
    "word_min_lda = 0.001\n",
    "word_max_lda = 0.3"
   ]
  },
  {
   "cell_type": "code",
   "execution_count": 15,
   "metadata": {
    "collapsed": true
   },
   "outputs": [],
   "source": [
    "# Définition de la fonction CountVectorizer\n",
    "C_vect = CountVectorizer(input=\"content\", stop_words=\"english\", \n",
    "                         tokenizer=tokenizer_idf, \n",
    "                         min_df=word_min_lda, max_df=word_max_lda)"
   ]
  },
  {
   "cell_type": "code",
   "execution_count": 16,
   "metadata": {
    "collapsed": true
   },
   "outputs": [],
   "source": [
    "# Transformation de notre corpus de documents.\n",
    "tf = C_vect.fit_transform(table_travail[\"BodyTitle\"])"
   ]
  },
  {
   "cell_type": "code",
   "execution_count": 1,
   "metadata": {},
   "outputs": [
    {
     "ename": "NameError",
     "evalue": "name 'f_dist_tags' is not defined",
     "output_type": "error",
     "traceback": [
      "\u001b[1;31m---------------------------------------------------------------------------\u001b[0m",
      "\u001b[1;31mNameError\u001b[0m                                 Traceback (most recent call last)",
      "\u001b[1;32m<ipython-input-1-886380aaa611>\u001b[0m in \u001b[0;36m<module>\u001b[1;34m()\u001b[0m\n\u001b[1;32m----> 1\u001b[1;33m \u001b[0mstat1\u001b[0m \u001b[1;33m=\u001b[0m \u001b[0mlen\u001b[0m\u001b[1;33m(\u001b[0m\u001b[0mset\u001b[0m\u001b[1;33m(\u001b[0m\u001b[0mlist\u001b[0m\u001b[1;33m(\u001b[0m\u001b[0mf_dist_tags\u001b[0m\u001b[1;33m)\u001b[0m\u001b[1;33m)\u001b[0m \u001b[1;33m&\u001b[0m \u001b[0mset\u001b[0m\u001b[1;33m(\u001b[0m\u001b[0mC_vect\u001b[0m\u001b[1;33m.\u001b[0m\u001b[0mvocabulary_\u001b[0m\u001b[1;33m)\u001b[0m\u001b[1;33m)\u001b[0m\u001b[1;33m/\u001b[0m\u001b[0mlen\u001b[0m\u001b[1;33m(\u001b[0m\u001b[0mset\u001b[0m\u001b[1;33m(\u001b[0m\u001b[0mlist\u001b[0m\u001b[1;33m(\u001b[0m\u001b[0mf_dist_tags\u001b[0m\u001b[1;33m)\u001b[0m\u001b[1;33m)\u001b[0m\u001b[1;33m)\u001b[0m\u001b[1;33m*\u001b[0m\u001b[1;36m100\u001b[0m\u001b[1;33m\u001b[0m\u001b[0m\n\u001b[0m\u001b[0;32m      2\u001b[0m \u001b[0mprint\u001b[0m\u001b[1;33m(\u001b[0m\u001b[1;34mf\"{round(stat1, 2)} % des tags sont présents dans le vocabulaire\"\u001b[0m\u001b[1;33m)\u001b[0m\u001b[1;33m\u001b[0m\u001b[0m\n",
      "\u001b[1;31mNameError\u001b[0m: name 'f_dist_tags' is not defined"
     ]
    }
   ],
   "source": [
    "stat1 = len(set(list(f_dist_tags)) & set(C_vect.vocabulary_))/len(set(list(f_dist_tags)))*100\n",
    "print(f\"{round(stat1, 2)} % des tags sont présents dans le vocabulaire\")"
   ]
  },
  {
   "cell_type": "code",
   "execution_count": 285,
   "metadata": {},
   "outputs": [
    {
     "data": {
      "text/plain": [
       "40.77984625358896"
      ]
     },
     "execution_count": 285,
     "metadata": {},
     "output_type": "execute_result"
    }
   ],
   "source": [
    "len(set(list(f_dist_tags)) & set(C_vect.stop_words_))/len(set(list(f_dist_tags)))*100"
   ]
  },
  {
   "cell_type": "code",
   "execution_count": 286,
   "metadata": {},
   "outputs": [
    {
     "data": {
      "text/plain": [
       "50.50476984347504"
      ]
     },
     "execution_count": 286,
     "metadata": {},
     "output_type": "execute_result"
    }
   ],
   "source": [
    "len(set(list(f_dist_tags)) & set(list(f_dist_bodytitle)))/len(set(list(f_dist_tags)))*100"
   ]
  },
  {
   "cell_type": "code",
   "execution_count": 20,
   "metadata": {
    "collapsed": true
   },
   "outputs": [],
   "source": [
    "y_tags = table_travail[[\"Title\",\"Tags\"]]"
   ]
  },
  {
   "cell_type": "markdown",
   "metadata": {},
   "source": [
    "### Séparation de notre jeu de données et d'entrainements : ###"
   ]
  },
  {
   "cell_type": "markdown",
   "metadata": {},
   "source": [
    "Nous séparerons ici nos données en jeu d'entrainement et jeu de test : "
   ]
  },
  {
   "cell_type": "code",
   "execution_count": 21,
   "metadata": {
    "collapsed": true
   },
   "outputs": [],
   "source": [
    "tf_train, tf_test, y_lda_tags_train, y_lda_tags_test  = train_test_split(tf, y_tags, test_size=0.3)"
   ]
  },
  {
   "cell_type": "markdown",
   "metadata": {},
   "source": [
    "### Validation croisée : ###"
   ]
  },
  {
   "cell_type": "markdown",
   "metadata": {},
   "source": [
    "Au cours de la validation croisée, nous ferons varier les thèmes de 14 à 26 et le paramètre learning_decay entre 0.5, 0.75 et 1."
   ]
  },
  {
   "cell_type": "code",
   "execution_count": 207,
   "metadata": {
    "collapsed": true
   },
   "outputs": [],
   "source": [
    "grid_param = {\"n_components\":[14, 16, 18, 20, 22, 24, 26], \n",
    "              \"learning_decay\":[0.5, 0.75, 1], \n",
    "              \"learning_method\":[\"online\"]}\n",
    "lda = LatentDirichletAllocation(n_jobs=-1)\n",
    "lda_model = GridSearchCV(lda, grid_param, cv=5, return_train_score=True)"
   ]
  },
  {
   "cell_type": "code",
   "execution_count": 208,
   "metadata": {},
   "outputs": [
    {
     "data": {
      "text/plain": [
       "GridSearchCV(cv=5, error_score='raise',\n",
       "       estimator=LatentDirichletAllocation(batch_size=128, doc_topic_prior=None,\n",
       "             evaluate_every=-1, learning_decay=0.7, learning_method=None,\n",
       "             learning_offset=10.0, max_doc_update_iter=100, max_iter=10,\n",
       "             mean_change_tol=0.001, n_components=10, n_jobs=-1,\n",
       "             n_topics=None, perp_tol=0.1, random_state=None,\n",
       "             topic_word_prior=None, total_samples=1000000.0, verbose=0),\n",
       "       fit_params=None, iid=True, n_jobs=1,\n",
       "       param_grid={'n_components': [14, 16, 18, 20, 22, 24, 26], 'learning_decay': [0.5, 0.75, 1], 'learning_method': ['online']},\n",
       "       pre_dispatch='2*n_jobs', refit=True, return_train_score=True,\n",
       "       scoring=None, verbose=0)"
      ]
     },
     "execution_count": 208,
     "metadata": {},
     "output_type": "execute_result"
    }
   ],
   "source": [
    "lda_model.fit(tf_train)"
   ]
  },
  {
   "cell_type": "markdown",
   "metadata": {},
   "source": [
    "### Résultats visuels de notre validation croisée : ###"
   ]
  },
  {
   "cell_type": "code",
   "execution_count": 210,
   "metadata": {},
   "outputs": [
    {
     "name": "stdout",
     "output_type": "stream",
     "text": [
      "Best Model's Params:  {'learning_decay': 0.75, 'learning_method': 'online', 'n_components': 20}\n"
     ]
    }
   ],
   "source": [
    "print(\"Best Model's Params: \", lda_model.best_params_)"
   ]
  },
  {
   "cell_type": "code",
   "execution_count": 211,
   "metadata": {},
   "outputs": [
    {
     "name": "stdout",
     "output_type": "stream",
     "text": [
      "Best Log Likelihood Score:  -1639751.05921\n"
     ]
    }
   ],
   "source": [
    "print(\"Best Log Likelihood Score: \", lda_model.best_score_)"
   ]
  },
  {
   "cell_type": "code",
   "execution_count": 212,
   "metadata": {},
   "outputs": [
    {
     "data": {
      "image/png": "[encoded data removed]",
      "text/plain": [
       "<matplotlib.figure.Figure at 0xac62ac4898>"
      ]
     },
     "metadata": {},
     "output_type": "display_data"
    }
   ],
   "source": [
    "df_results = pd.DataFrame(lda_model.cv_results_)[[\"mean_test_score\",\n",
    "                                                \"param_learning_decay\",\n",
    "                                                \"param_n_components\"\n",
    "                                                 ]]\n",
    "sns.factorplot(x=\"param_learning_decay\", y=\"mean_test_score\", hue=\"param_n_components\", \n",
    "               data=df_results, capsize=.2, \n",
    "               palette=\"YlGnBu_d\", size=6, aspect=1)\n",
    "plt.show()"
   ]
  },
  {
   "cell_type": "markdown",
   "metadata": {},
   "source": [
    "** Figure 001:** Résultats de notre validation croisée sur le jeu de données. On observe un maximum de vraisemblance pour 20 thèmes et un paramètre learning_decay de 0.75."
   ]
  },
  {
   "cell_type": "markdown",
   "metadata": {},
   "source": [
    "### Réentrainement du modèle sélectionné: ###"
   ]
  },
  {
   "cell_type": "markdown",
   "metadata": {},
   "source": [
    "Nous allons réentrainer l'algorithme LDA avec un nombre d'itérations plus important afin d'assurer la convergence de l'algorithme. Nous évaluerons par la suite les résultats obtenus sur le jeu de test."
   ]
  },
  {
   "cell_type": "code",
   "execution_count": 213,
   "metadata": {
    "collapsed": true
   },
   "outputs": [],
   "source": [
    "lda_final = LatentDirichletAllocation(n_jobs=-1, **lda_model.best_params_, \n",
    "                                      max_iter=1000).fit(tf_train)"
   ]
  },
  {
   "cell_type": "code",
   "execution_count": 294,
   "metadata": {
    "collapsed": true
   },
   "outputs": [],
   "source": [
    "lda_output = lda_final.transform(tf_test)"
   ]
  },
  {
   "cell_type": "markdown",
   "metadata": {},
   "source": [
    "### Visualisation des thèmes dominants par documents : ###"
   ]
  },
  {
   "cell_type": "markdown",
   "metadata": {},
   "source": [
    "Pour chacun des thèmes, nous allons afficher les mots clés (les plus fréquents) associés aux différents thèmes afin d'identifier la pertinence des 20 thèmes trouvée par la méthode LDA."
   ]
  },
  {
   "cell_type": "code",
   "execution_count": 295,
   "metadata": {},
   "outputs": [
    {
     "name": "stdout",
     "output_type": "stream",
     "text": [
      "Topic #0: line command button script file bar branch foo address git change execution limit shell dir\n",
      "Topic #1: table id database data field view model query column row sql index controller mysql db\n",
      "Topic #2: server .net service client application web asp.net request http com connection site access mvc password\n",
      "Topic #3: function time data event php date post code json var range return result cache hash\n",
      "Topic #4: class int interface function void char base type return pointer node const member parent child\n",
      "Topic #5: text log state search document box google status comment django engine root textbox debug cursor\n",
      "Topic #6: page html javascript div jquery text style http tag element id browser cs title form\n",
      "Topic #7: java string xml character apache eclipse expression package import jar org target com sun source\n",
      "Topic #8: test control resource key unit window person assembly report tab wpf code validation xaml schema\n",
      "Topic #9: method object class property string exception code return self instance session type response parameter void\n",
      "Topic #10: file image header content color layout mode background text cell position section buffer png filename\n",
      "Topic #11: value type array difference lib core socket default enum player xsd springframework medium register vb\n",
      "Topic #12: error number message form end byte data integer stream algorithm port problem syntax operation oracle\n",
      "Topic #13: application question time app thing framework lot people task iphone answer solution developer practice feature\n",
      "Topic #14: size point td android length float screen result boost count frame max tr zero area\n",
      "Topic #15: user path word location format space match link example login regex txt vim symbol profile\n",
      "Topic #16: project file version directory studio group ruby folder repository dll rail source build dependency setting\n",
      "Topic #17: list item python thread product element entity print map collection order example statement loop hibernate\n",
      "Topic #18: process bit memory code output module case input try block pattern set perl problem example\n",
      "Topic #19: code window c++ program c# language library option source tool .net question application copy operator\n"
     ]
    }
   ],
   "source": [
    "print_top_words(lda_final, C_vect.get_feature_names(), 15)"
   ]
  },
  {
   "cell_type": "markdown",
   "metadata": {},
   "source": [
    "** Figure 002: ** Certains thèmes sont identifiables facilement (thème 1 avec les bases de données, thème 6 avec la programmation front-end). Nous allons continuer cette exploration en utilisant l'outil pyLDAvis et réorganisant ces mots par le critère \"relevance\" développé dans cet outil."
   ]
  },
  {
   "cell_type": "markdown",
   "metadata": {
    "collapsed": true
   },
   "source": [
    "### Construction d'une fonction renvoyant les mots les plus pertinents :###"
   ]
  },
  {
   "cell_type": "markdown",
   "metadata": {},
   "source": [
    "Nous allons calculer le critère relevance pour chaque mot associé à chaque thème afin de choisir au mieux la liste des mots allant servir de tags pour chacun des thèmes identifiés par l'algorithme LDA."
   ]
  },
  {
   "cell_type": "code",
   "execution_count": 296,
   "metadata": {
    "collapsed": true
   },
   "outputs": [],
   "source": [
    "topic_name = [\"Topic :\" + str(i) for i in range(lda_final.n_components)]\n",
    "phi_w_k = pd.DataFrame(data = lda_final.components_.copy(), index = topic_name, \n",
    "                       columns = C_vect.get_feature_names())\n",
    "freq_features = np.array(tf.sum(axis=0))[0]\n",
    "pw = pd.DataFrame(data=freq_features, index=C_vect.get_feature_names())"
   ]
  },
  {
   "cell_type": "code",
   "execution_count": 297,
   "metadata": {
    "collapsed": true
   },
   "outputs": [],
   "source": [
    "transfo = np.array(phi_w_k)\n",
    "for i in range(len(phi_w_k.index)):\n",
    "    somme_ligne = transfo[i,:].sum()\n",
    "    transfo[i,:] = transfo[i,:] / somme_ligne\n",
    "\n",
    "phi_w_k = pd.DataFrame(data = transfo, index = topic_name, \n",
    "                       columns = C_vect.get_feature_names())"
   ]
  },
  {
   "cell_type": "code",
   "execution_count": 298,
   "metadata": {
    "collapsed": true
   },
   "outputs": [],
   "source": [
    "rwk = pd.DataFrame(index=topic_name, columns=C_vect.get_feature_names(), \n",
    "                   data=get_rwk(0.66, phi_w_k, pw))"
   ]
  },
  {
   "cell_type": "code",
   "execution_count": 299,
   "metadata": {},
   "outputs": [
    {
     "name": "stdout",
     "output_type": "stream",
     "text": [
      "['line', 'command', 'button', 'script', 'bar', 'branch', 'foo', 'git', 'file']\n",
      "['table', 'database', 'id', 'field', 'query', 'model', 'column', 'view', 'data']\n",
      "['server', 'service', '.net', 'client', 'asp.net', 'web', 'request', 'connection', 'http']\n",
      "['function', 'event', 'php', 'date', 'time', 'data', 'post', 'json', 'range']\n",
      "['int', 'class', 'interface', 'char', 'base', 'void', 'pointer', 'const', 'node']\n",
      "['log', 'state', 'search', 'text', 'box', 'document', 'google', 'status', 'comment']\n",
      "['page', 'html', 'javascript', 'div', 'jquery', 'style', 'tag', 'text', 'cs']\n",
      "['java', 'string', 'xml', 'character', 'eclipse', 'apache', 'expression', 'package', 'jar']\n",
      "['test', 'control', 'resource', 'unit', 'assembly', 'person', 'key', 'report', 'tab']\n",
      "['method', 'object', 'property', 'class', 'exception', 'self', 'session', 'string', 'instance']\n",
      "['file', 'image', 'header', 'color', 'layout', 'mode', 'content', 'cell', 'png']\n",
      "['value', 'array', 'type', 'difference', 'lib', 'core', 'socket', 'enum', 'player']\n",
      "['error', 'number', 'message', 'byte', 'form', 'end', 'integer', 'stream', 'port']\n",
      "['application', 'question', 'framework', 'app', 'people', 'thing', 'task', 'iphone', 'developer']\n",
      "['size', 'td', 'point', 'android', 'float', 'boost', 'screen', 'frame', 'length']\n",
      "['user', 'path', 'word', 'location', 'match', 'login', 'space', 'format', 'regex']\n",
      "['project', 'version', 'file', 'directory', 'studio', 'group', 'ruby', 'folder', 'dll']\n",
      "['list', 'item', 'python', 'thread', 'product', 'entity', 'print', 'map', 'element']\n",
      "['bit', 'process', 'memory', 'module', 'output', 'input', 'try', 'case', 'block']\n",
      "['window', 'c++', 'program', 'code', 'c#', 'language', 'library', 'option', 'tool']\n"
     ]
    }
   ],
   "source": [
    "for i in range(20):\n",
    "    print(list(rwk.columns[np.array(rwk)[i,:].argsort()][-1:-10:-1]))"
   ]
  },
  {
   "cell_type": "code",
   "execution_count": 305,
   "metadata": {
    "collapsed": true
   },
   "outputs": [],
   "source": [
    "response_df = y_lda_tags_test.copy()\n",
    "response_df.reset_index(inplace=True)"
   ]
  },
  {
   "cell_type": "code",
   "execution_count": null,
   "metadata": {
    "collapsed": true
   },
   "outputs": [],
   "source": [
    "list_predicted_topics = return_main_topic(lda_output)"
   ]
  },
  {
   "cell_type": "code",
   "execution_count": 309,
   "metadata": {
    "collapsed": true
   },
   "outputs": [],
   "source": [
    "response_df[\"predicted_topic\"] = list_predicted_topics"
   ]
  },
  {
   "cell_type": "code",
   "execution_count": 310,
   "metadata": {},
   "outputs": [
    {
     "data": {
      "text/html": [
       "<div>\n",
       "<style>\n",
       "    .dataframe thead tr:only-child th {\n",
       "        text-align: right;\n",
       "    }\n",
       "\n",
       "    .dataframe thead th {\n",
       "        text-align: left;\n",
       "    }\n",
       "\n",
       "    .dataframe tbody tr th {\n",
       "        vertical-align: top;\n",
       "    }\n",
       "</style>\n",
       "<table border=\"1\" class=\"dataframe\">\n",
       "  <thead>\n",
       "    <tr style=\"text-align: right;\">\n",
       "      <th></th>\n",
       "      <th>index</th>\n",
       "      <th>Title</th>\n",
       "      <th>Tags</th>\n",
       "      <th>predicted_topic</th>\n",
       "      <th>predicted_tags</th>\n",
       "      <th>Topic :0</th>\n",
       "      <th>Topic :1</th>\n",
       "      <th>Topic :2</th>\n",
       "      <th>Topic :3</th>\n",
       "      <th>Topic :4</th>\n",
       "      <th>...</th>\n",
       "      <th>Topic :10</th>\n",
       "      <th>Topic :11</th>\n",
       "      <th>Topic :12</th>\n",
       "      <th>Topic :13</th>\n",
       "      <th>Topic :14</th>\n",
       "      <th>Topic :15</th>\n",
       "      <th>Topic :16</th>\n",
       "      <th>Topic :17</th>\n",
       "      <th>Topic :18</th>\n",
       "      <th>Topic :19</th>\n",
       "    </tr>\n",
       "  </thead>\n",
       "  <tbody>\n",
       "    <tr>\n",
       "      <th>0</th>\n",
       "      <td>41445</td>\n",
       "      <td>How to implement one \"catch'em all\" exception ...</td>\n",
       "      <td>[c#, exception]</td>\n",
       "      <td>9</td>\n",
       "      <td>[method, object, property, class]</td>\n",
       "      <td>0.003333</td>\n",
       "      <td>0.071302</td>\n",
       "      <td>0.003333</td>\n",
       "      <td>0.076156</td>\n",
       "      <td>0.003333</td>\n",
       "      <td>...</td>\n",
       "      <td>0.003333</td>\n",
       "      <td>0.003333</td>\n",
       "      <td>0.003333</td>\n",
       "      <td>0.181353</td>\n",
       "      <td>0.003333</td>\n",
       "      <td>0.070000</td>\n",
       "      <td>0.003333</td>\n",
       "      <td>0.003333</td>\n",
       "      <td>0.148073</td>\n",
       "      <td>0.003333</td>\n",
       "    </tr>\n",
       "    <tr>\n",
       "      <th>1</th>\n",
       "      <td>53764</td>\n",
       "      <td>How to implement a file download in ASP.NET AJAX</td>\n",
       "      <td>[asp.net-ajax, download]</td>\n",
       "      <td>10</td>\n",
       "      <td>[file, image, header, color]</td>\n",
       "      <td>0.001471</td>\n",
       "      <td>0.001471</td>\n",
       "      <td>0.176591</td>\n",
       "      <td>0.066565</td>\n",
       "      <td>0.001471</td>\n",
       "      <td>...</td>\n",
       "      <td>0.296944</td>\n",
       "      <td>0.001471</td>\n",
       "      <td>0.044627</td>\n",
       "      <td>0.001471</td>\n",
       "      <td>0.001471</td>\n",
       "      <td>0.063226</td>\n",
       "      <td>0.001471</td>\n",
       "      <td>0.001471</td>\n",
       "      <td>0.001471</td>\n",
       "      <td>0.001471</td>\n",
       "    </tr>\n",
       "    <tr>\n",
       "      <th>2</th>\n",
       "      <td>41294</td>\n",
       "      <td>Best web front-end for SVN?</td>\n",
       "      <td>[svn, version-control]</td>\n",
       "      <td>16</td>\n",
       "      <td>[project, version, file, directory]</td>\n",
       "      <td>0.001786</td>\n",
       "      <td>0.041383</td>\n",
       "      <td>0.174230</td>\n",
       "      <td>0.050383</td>\n",
       "      <td>0.001786</td>\n",
       "      <td>...</td>\n",
       "      <td>0.038742</td>\n",
       "      <td>0.037500</td>\n",
       "      <td>0.057112</td>\n",
       "      <td>0.217067</td>\n",
       "      <td>0.001786</td>\n",
       "      <td>0.001786</td>\n",
       "      <td>0.288627</td>\n",
       "      <td>0.001786</td>\n",
       "      <td>0.001786</td>\n",
       "      <td>0.038612</td>\n",
       "    </tr>\n",
       "    <tr>\n",
       "      <th>3</th>\n",
       "      <td>28626</td>\n",
       "      <td>The difference between declaring a variable as...</td>\n",
       "      <td>[php, variables]</td>\n",
       "      <td>0</td>\n",
       "      <td>[line, command, button, script]</td>\n",
       "      <td>0.280556</td>\n",
       "      <td>0.002778</td>\n",
       "      <td>0.002778</td>\n",
       "      <td>0.113286</td>\n",
       "      <td>0.002778</td>\n",
       "      <td>...</td>\n",
       "      <td>0.002778</td>\n",
       "      <td>0.212153</td>\n",
       "      <td>0.002778</td>\n",
       "      <td>0.002778</td>\n",
       "      <td>0.002778</td>\n",
       "      <td>0.002778</td>\n",
       "      <td>0.002778</td>\n",
       "      <td>0.002778</td>\n",
       "      <td>0.002778</td>\n",
       "      <td>0.002778</td>\n",
       "    </tr>\n",
       "    <tr>\n",
       "      <th>4</th>\n",
       "      <td>14730</td>\n",
       "      <td>Membership.ValidateUser always returns false a...</td>\n",
       "      <td>[c#, asp.net, oracle, asp.net-membership]</td>\n",
       "      <td>2</td>\n",
       "      <td>[server, service, .net, client]</td>\n",
       "      <td>0.002381</td>\n",
       "      <td>0.002381</td>\n",
       "      <td>0.478731</td>\n",
       "      <td>0.002381</td>\n",
       "      <td>0.002381</td>\n",
       "      <td>...</td>\n",
       "      <td>0.002381</td>\n",
       "      <td>0.002381</td>\n",
       "      <td>0.058715</td>\n",
       "      <td>0.241880</td>\n",
       "      <td>0.002381</td>\n",
       "      <td>0.124040</td>\n",
       "      <td>0.002381</td>\n",
       "      <td>0.002381</td>\n",
       "      <td>0.002381</td>\n",
       "      <td>0.060920</td>\n",
       "    </tr>\n",
       "  </tbody>\n",
       "</table>\n",
       "<p>5 rows × 25 columns</p>\n",
       "</div>"
      ],
      "text/plain": [
       "   index                                              Title  \\\n",
       "0  41445  How to implement one \"catch'em all\" exception ...   \n",
       "1  53764   How to implement a file download in ASP.NET AJAX   \n",
       "2  41294                        Best web front-end for SVN?   \n",
       "3  28626  The difference between declaring a variable as...   \n",
       "4  14730  Membership.ValidateUser always returns false a...   \n",
       "\n",
       "                                        Tags  predicted_topic  \\\n",
       "0                            [c#, exception]                9   \n",
       "1                   [asp.net-ajax, download]               10   \n",
       "2                     [svn, version-control]               16   \n",
       "3                           [php, variables]                0   \n",
       "4  [c#, asp.net, oracle, asp.net-membership]                2   \n",
       "\n",
       "                        predicted_tags  Topic :0  Topic :1  Topic :2  \\\n",
       "0    [method, object, property, class]  0.003333  0.071302  0.003333   \n",
       "1         [file, image, header, color]  0.001471  0.001471  0.176591   \n",
       "2  [project, version, file, directory]  0.001786  0.041383  0.174230   \n",
       "3      [line, command, button, script]  0.280556  0.002778  0.002778   \n",
       "4      [server, service, .net, client]  0.002381  0.002381  0.478731   \n",
       "\n",
       "   Topic :3  Topic :4    ...      Topic :10  Topic :11  Topic :12  Topic :13  \\\n",
       "0  0.076156  0.003333    ...       0.003333   0.003333   0.003333   0.181353   \n",
       "1  0.066565  0.001471    ...       0.296944   0.001471   0.044627   0.001471   \n",
       "2  0.050383  0.001786    ...       0.038742   0.037500   0.057112   0.217067   \n",
       "3  0.113286  0.002778    ...       0.002778   0.212153   0.002778   0.002778   \n",
       "4  0.002381  0.002381    ...       0.002381   0.002381   0.058715   0.241880   \n",
       "\n",
       "   Topic :14  Topic :15  Topic :16  Topic :17  Topic :18  Topic :19  \n",
       "0   0.003333   0.070000   0.003333   0.003333   0.148073   0.003333  \n",
       "1   0.001471   0.063226   0.001471   0.001471   0.001471   0.001471  \n",
       "2   0.001786   0.001786   0.288627   0.001786   0.001786   0.038612  \n",
       "3   0.002778   0.002778   0.002778   0.002778   0.002778   0.002778  \n",
       "4   0.002381   0.124040   0.002381   0.002381   0.002381   0.060920  \n",
       "\n",
       "[5 rows x 25 columns]"
      ]
     },
     "execution_count": 310,
     "metadata": {},
     "output_type": "execute_result"
    }
   ],
   "source": [
    "response_df.head(5)"
   ]
  },
  {
   "cell_type": "code",
   "execution_count": 311,
   "metadata": {
    "collapsed": true
   },
   "outputs": [],
   "source": [
    "response_df[\"predicted_tags\"] = \\\n",
    "response_df[\"predicted_topic\"].apply(lambda x: \n",
    "                                         return_relevant_tags(x, C_vect.get_feature_names(), rwk, 5))"
   ]
  },
  {
   "cell_type": "code",
   "execution_count": 312,
   "metadata": {
    "collapsed": true
   },
   "outputs": [],
   "source": [
    "for i in range(len(topic_name)):\n",
    "    response_df[topic_name[i]] = lda_output[:,i]"
   ]
  },
  {
   "cell_type": "code",
   "execution_count": 315,
   "metadata": {},
   "outputs": [
    {
     "data": {
      "text/html": [
       "<div>\n",
       "<style>\n",
       "    .dataframe thead tr:only-child th {\n",
       "        text-align: right;\n",
       "    }\n",
       "\n",
       "    .dataframe thead th {\n",
       "        text-align: left;\n",
       "    }\n",
       "\n",
       "    .dataframe tbody tr th {\n",
       "        vertical-align: top;\n",
       "    }\n",
       "</style>\n",
       "<table border=\"1\" class=\"dataframe\">\n",
       "  <thead>\n",
       "    <tr style=\"text-align: right;\">\n",
       "      <th></th>\n",
       "      <th>index</th>\n",
       "      <th>Title</th>\n",
       "      <th>Tags</th>\n",
       "      <th>predicted_topic</th>\n",
       "      <th>predicted_tags</th>\n",
       "    </tr>\n",
       "  </thead>\n",
       "  <tbody>\n",
       "    <tr>\n",
       "      <th>11</th>\n",
       "      <td>56304</td>\n",
       "      <td>MySQL indices and order</td>\n",
       "      <td>[mysql, indexing, sql-order-by]</td>\n",
       "      <td>1</td>\n",
       "      <td>[table, database, id, field]</td>\n",
       "    </tr>\n",
       "    <tr>\n",
       "      <th>12</th>\n",
       "      <td>52561</td>\n",
       "      <td>varchar vs. mediumtext</td>\n",
       "      <td>[mysql, text, varchar]</td>\n",
       "      <td>1</td>\n",
       "      <td>[table, database, id, field]</td>\n",
       "    </tr>\n",
       "    <tr>\n",
       "      <th>23</th>\n",
       "      <td>28787</td>\n",
       "      <td>How to efficiently use MySQLDB SScursor?</td>\n",
       "      <td>[python, mysql, optimization, cursor]</td>\n",
       "      <td>1</td>\n",
       "      <td>[table, database, id, field]</td>\n",
       "    </tr>\n",
       "    <tr>\n",
       "      <th>29</th>\n",
       "      <td>40155</td>\n",
       "      <td>How to set a GUID as ADO query parameters from...</td>\n",
       "      <td>[delphi, guid, ado]</td>\n",
       "      <td>1</td>\n",
       "      <td>[table, database, id, field]</td>\n",
       "    </tr>\n",
       "    <tr>\n",
       "      <th>43</th>\n",
       "      <td>6792</td>\n",
       "      <td>Am I immune to SQL injections if I use stored ...</td>\n",
       "      <td>[database, security, stored-procedures, sql-in...</td>\n",
       "      <td>1</td>\n",
       "      <td>[table, database, id, field]</td>\n",
       "    </tr>\n",
       "    <tr>\n",
       "      <th>53</th>\n",
       "      <td>37518</td>\n",
       "      <td>Implementing IEnumerable</td>\n",
       "      <td>[linq-to-sql, generics]</td>\n",
       "      <td>1</td>\n",
       "      <td>[table, database, id, field]</td>\n",
       "    </tr>\n",
       "    <tr>\n",
       "      <th>58</th>\n",
       "      <td>15196</td>\n",
       "      <td>SELECT FOR UPDATE with SQL Server</td>\n",
       "      <td>[sql, sql-server, sql-server-2005, tsql, read-...</td>\n",
       "      <td>1</td>\n",
       "      <td>[table, database, id, field]</td>\n",
       "    </tr>\n",
       "    <tr>\n",
       "      <th>67</th>\n",
       "      <td>57230</td>\n",
       "      <td>Entity Framework Guid</td>\n",
       "      <td>[c#, asp.net, entity-framework]</td>\n",
       "      <td>1</td>\n",
       "      <td>[table, database, id, field]</td>\n",
       "    </tr>\n",
       "    <tr>\n",
       "      <th>125</th>\n",
       "      <td>47487</td>\n",
       "      <td>How do you transform a Linq query result to XML?</td>\n",
       "      <td>[c#, linq, linq-to-xml]</td>\n",
       "      <td>1</td>\n",
       "      <td>[table, database, id, field]</td>\n",
       "    </tr>\n",
       "    <tr>\n",
       "      <th>128</th>\n",
       "      <td>19163</td>\n",
       "      <td>How to return the value of AUTO INCREMENT colu...</td>\n",
       "      <td>[sqlite, vb6, auto-increment]</td>\n",
       "      <td>1</td>\n",
       "      <td>[table, database, id, field]</td>\n",
       "    </tr>\n",
       "    <tr>\n",
       "      <th>131</th>\n",
       "      <td>47224</td>\n",
       "      <td>MySQL limitations</td>\n",
       "      <td>[mysql, database]</td>\n",
       "      <td>1</td>\n",
       "      <td>[table, database, id, field]</td>\n",
       "    </tr>\n",
       "    <tr>\n",
       "      <th>148</th>\n",
       "      <td>13017</td>\n",
       "      <td>SQL Select: Update if exists, Insert if not - ...</td>\n",
       "      <td>[sql, sql-server, sql-update]</td>\n",
       "      <td>1</td>\n",
       "      <td>[table, database, id, field]</td>\n",
       "    </tr>\n",
       "    <tr>\n",
       "      <th>160</th>\n",
       "      <td>7285</td>\n",
       "      <td>Hidden features of PL/SQL</td>\n",
       "      <td>[sql, oracle, plsql]</td>\n",
       "      <td>1</td>\n",
       "      <td>[table, database, id, field]</td>\n",
       "    </tr>\n",
       "    <tr>\n",
       "      <th>167</th>\n",
       "      <td>5609</td>\n",
       "      <td>Getting distinct rows from a left outer join</td>\n",
       "      <td>[sql, sql-server, sql-server-2005, linq-to-sql]</td>\n",
       "      <td>1</td>\n",
       "      <td>[table, database, id, field]</td>\n",
       "    </tr>\n",
       "    <tr>\n",
       "      <th>169</th>\n",
       "      <td>21334</td>\n",
       "      <td>Adding Buttons inside cell of JTable along wit...</td>\n",
       "      <td>[java, swing, jtable, jbutton]</td>\n",
       "      <td>1</td>\n",
       "      <td>[table, database, id, field]</td>\n",
       "    </tr>\n",
       "    <tr>\n",
       "      <th>179</th>\n",
       "      <td>35287</td>\n",
       "      <td>SELECT only rows that contain only alphanumeri...</td>\n",
       "      <td>[mysql, regex]</td>\n",
       "      <td>1</td>\n",
       "      <td>[table, database, id, field]</td>\n",
       "    </tr>\n",
       "    <tr>\n",
       "      <th>181</th>\n",
       "      <td>3172</td>\n",
       "      <td>Select newly added Row - DataGridView and Bind...</td>\n",
       "      <td>[c#, winforms, datagridview, sql-server-ce, bi...</td>\n",
       "      <td>1</td>\n",
       "      <td>[table, database, id, field]</td>\n",
       "    </tr>\n",
       "    <tr>\n",
       "      <th>191</th>\n",
       "      <td>11770</td>\n",
       "      <td>What does the \"Add DROP TABLE / VIEW / PROCEDU...</td>\n",
       "      <td>[php, mysql, phpmyadmin]</td>\n",
       "      <td>1</td>\n",
       "      <td>[table, database, id, field]</td>\n",
       "    </tr>\n",
       "    <tr>\n",
       "      <th>200</th>\n",
       "      <td>2869</td>\n",
       "      <td>Passing an array of parameters to a stored pro...</td>\n",
       "      <td>[sql, sql-server-2005, stored-procedures]</td>\n",
       "      <td>1</td>\n",
       "      <td>[table, database, id, field]</td>\n",
       "    </tr>\n",
       "    <tr>\n",
       "      <th>212</th>\n",
       "      <td>10241</td>\n",
       "      <td>django ManyToMany through help</td>\n",
       "      <td>[django, model, many-to-many]</td>\n",
       "      <td>1</td>\n",
       "      <td>[table, database, id, field]</td>\n",
       "    </tr>\n",
       "    <tr>\n",
       "      <th>218</th>\n",
       "      <td>21387</td>\n",
       "      <td>\"Auto increment\" alphabet in java?</td>\n",
       "      <td>[java, auto-increment]</td>\n",
       "      <td>1</td>\n",
       "      <td>[table, database, id, field]</td>\n",
       "    </tr>\n",
       "    <tr>\n",
       "      <th>229</th>\n",
       "      <td>12012</td>\n",
       "      <td>Netbeans/Ruby - extraneous(?) autocomplete info</td>\n",
       "      <td>[ruby-on-rails, ruby, netbeans, autocomplete]</td>\n",
       "      <td>1</td>\n",
       "      <td>[table, database, id, field]</td>\n",
       "    </tr>\n",
       "    <tr>\n",
       "      <th>238</th>\n",
       "      <td>8149</td>\n",
       "      <td>Is there an Oracle SQL query that aggregates m...</td>\n",
       "      <td>[sql, oracle, aggregation, string-concatenation]</td>\n",
       "      <td>1</td>\n",
       "      <td>[table, database, id, field]</td>\n",
       "    </tr>\n",
       "    <tr>\n",
       "      <th>245</th>\n",
       "      <td>48820</td>\n",
       "      <td>Eclipse RCP: Where should I keep my model obje...</td>\n",
       "      <td>[java, eclipse, eclipse-plugin, eclipse-rcp]</td>\n",
       "      <td>1</td>\n",
       "      <td>[table, database, id, field]</td>\n",
       "    </tr>\n",
       "    <tr>\n",
       "      <th>252</th>\n",
       "      <td>55457</td>\n",
       "      <td>What Collation is the best for data type INT i...</td>\n",
       "      <td>[sql, mysql, database, types]</td>\n",
       "      <td>1</td>\n",
       "      <td>[table, database, id, field]</td>\n",
       "    </tr>\n",
       "    <tr>\n",
       "      <th>255</th>\n",
       "      <td>30122</td>\n",
       "      <td>Can you data bind a TreeView control?</td>\n",
       "      <td>[c#, treeview, data-binding]</td>\n",
       "      <td>1</td>\n",
       "      <td>[table, database, id, field]</td>\n",
       "    </tr>\n",
       "    <tr>\n",
       "      <th>258</th>\n",
       "      <td>27758</td>\n",
       "      <td>MDX Calculated Member CrossJoin question</td>\n",
       "      <td>[olap, mdx, cubes]</td>\n",
       "      <td>1</td>\n",
       "      <td>[table, database, id, field]</td>\n",
       "    </tr>\n",
       "    <tr>\n",
       "      <th>259</th>\n",
       "      <td>2925</td>\n",
       "      <td>In an SSIS package, how do you insert master-d...</td>\n",
       "      <td>[ssis, insert, identity, master-detail]</td>\n",
       "      <td>1</td>\n",
       "      <td>[table, database, id, field]</td>\n",
       "    </tr>\n",
       "    <tr>\n",
       "      <th>267</th>\n",
       "      <td>43031</td>\n",
       "      <td>SELECT * FROM in MySQLi</td>\n",
       "      <td>[php, mysqli]</td>\n",
       "      <td>1</td>\n",
       "      <td>[table, database, id, field]</td>\n",
       "    </tr>\n",
       "    <tr>\n",
       "      <th>274</th>\n",
       "      <td>6795</td>\n",
       "      <td>Report group headings not repeating on every page</td>\n",
       "      <td>[reporting-services]</td>\n",
       "      <td>1</td>\n",
       "      <td>[table, database, id, field]</td>\n",
       "    </tr>\n",
       "    <tr>\n",
       "      <th>...</th>\n",
       "      <td>...</td>\n",
       "      <td>...</td>\n",
       "      <td>...</td>\n",
       "      <td>...</td>\n",
       "      <td>...</td>\n",
       "    </tr>\n",
       "    <tr>\n",
       "      <th>17306</th>\n",
       "      <td>47437</td>\n",
       "      <td>What does mysql error 1025 (HY000): Error on r...</td>\n",
       "      <td>[mysql, mysql-error-1025]</td>\n",
       "      <td>1</td>\n",
       "      <td>[table, database, id, field]</td>\n",
       "    </tr>\n",
       "    <tr>\n",
       "      <th>17311</th>\n",
       "      <td>21429</td>\n",
       "      <td>Using Html.ActionLink to call action on differ...</td>\n",
       "      <td>[asp.net-mvc]</td>\n",
       "      <td>1</td>\n",
       "      <td>[table, database, id, field]</td>\n",
       "    </tr>\n",
       "    <tr>\n",
       "      <th>17314</th>\n",
       "      <td>803</td>\n",
       "      <td>How to check if resultset has one row or more?</td>\n",
       "      <td>[java, sql, jdbc, resultset]</td>\n",
       "      <td>1</td>\n",
       "      <td>[table, database, id, field]</td>\n",
       "    </tr>\n",
       "    <tr>\n",
       "      <th>17322</th>\n",
       "      <td>15694</td>\n",
       "      <td>PHP Try and Catch for SQL Insert</td>\n",
       "      <td>[php, mysql, performance, error-handling]</td>\n",
       "      <td>1</td>\n",
       "      <td>[table, database, id, field]</td>\n",
       "    </tr>\n",
       "    <tr>\n",
       "      <th>17359</th>\n",
       "      <td>15332</td>\n",
       "      <td>Add onblur event to ASP.Net MVC's Html.TextBox</td>\n",
       "      <td>[c#, javascript, asp.net-mvc-2, html-helper]</td>\n",
       "      <td>1</td>\n",
       "      <td>[table, database, id, field]</td>\n",
       "    </tr>\n",
       "    <tr>\n",
       "      <th>17393</th>\n",
       "      <td>37069</td>\n",
       "      <td>How to log SQL statements in Grails</td>\n",
       "      <td>[sql, logging, grails]</td>\n",
       "      <td>1</td>\n",
       "      <td>[table, database, id, field]</td>\n",
       "    </tr>\n",
       "    <tr>\n",
       "      <th>17403</th>\n",
       "      <td>52233</td>\n",
       "      <td>Query on Select System Call</td>\n",
       "      <td>[c, sockets]</td>\n",
       "      <td>1</td>\n",
       "      <td>[table, database, id, field]</td>\n",
       "    </tr>\n",
       "    <tr>\n",
       "      <th>17404</th>\n",
       "      <td>57707</td>\n",
       "      <td>Cassandra vs Riak</td>\n",
       "      <td>[cassandra, riak]</td>\n",
       "      <td>1</td>\n",
       "      <td>[table, database, id, field]</td>\n",
       "    </tr>\n",
       "    <tr>\n",
       "      <th>17419</th>\n",
       "      <td>52019</td>\n",
       "      <td>Using awk (or sed) to remove newlines based on...</td>\n",
       "      <td>[bash, shell, sed, awk]</td>\n",
       "      <td>1</td>\n",
       "      <td>[table, database, id, field]</td>\n",
       "    </tr>\n",
       "    <tr>\n",
       "      <th>17423</th>\n",
       "      <td>37226</td>\n",
       "      <td>Condition within JOIN or WHERE</td>\n",
       "      <td>[sql, performance]</td>\n",
       "      <td>1</td>\n",
       "      <td>[table, database, id, field]</td>\n",
       "    </tr>\n",
       "    <tr>\n",
       "      <th>17441</th>\n",
       "      <td>39336</td>\n",
       "      <td>Django model with 2 foreign keys from the same...</td>\n",
       "      <td>[django, foreign-keys, ambiguity]</td>\n",
       "      <td>1</td>\n",
       "      <td>[table, database, id, field]</td>\n",
       "    </tr>\n",
       "    <tr>\n",
       "      <th>17454</th>\n",
       "      <td>3295</td>\n",
       "      <td>Best method to search hierarchical data</td>\n",
       "      <td>[c#, asp.net, sql-server-2005, recursive-query]</td>\n",
       "      <td>1</td>\n",
       "      <td>[table, database, id, field]</td>\n",
       "    </tr>\n",
       "    <tr>\n",
       "      <th>17456</th>\n",
       "      <td>47105</td>\n",
       "      <td>NHibernate: Convert Guid to string in query</td>\n",
       "      <td>[nhibernate]</td>\n",
       "      <td>1</td>\n",
       "      <td>[table, database, id, field]</td>\n",
       "    </tr>\n",
       "    <tr>\n",
       "      <th>17466</th>\n",
       "      <td>9771</td>\n",
       "      <td>Perform INSERT with SELECT to insert multiple ...</td>\n",
       "      <td>[sql, sql-server, sql-server-2005]</td>\n",
       "      <td>1</td>\n",
       "      <td>[table, database, id, field]</td>\n",
       "    </tr>\n",
       "    <tr>\n",
       "      <th>17485</th>\n",
       "      <td>36267</td>\n",
       "      <td>SQL count(*) and distinct</td>\n",
       "      <td>[sql]</td>\n",
       "      <td>1</td>\n",
       "      <td>[table, database, id, field]</td>\n",
       "    </tr>\n",
       "    <tr>\n",
       "      <th>17500</th>\n",
       "      <td>1175</td>\n",
       "      <td>SQL GROUP BY CASE statement with aggregate fun...</td>\n",
       "      <td>[sql, sql-server, sql-server-2005, group-by]</td>\n",
       "      <td>1</td>\n",
       "      <td>[table, database, id, field]</td>\n",
       "    </tr>\n",
       "    <tr>\n",
       "      <th>17501</th>\n",
       "      <td>13595</td>\n",
       "      <td>Why are SQL fields lengths always (2^n)-1 unle...</td>\n",
       "      <td>[database, schema, varchar]</td>\n",
       "      <td>1</td>\n",
       "      <td>[table, database, id, field]</td>\n",
       "    </tr>\n",
       "    <tr>\n",
       "      <th>17505</th>\n",
       "      <td>2788</td>\n",
       "      <td>When to prefer JSON over XML?</td>\n",
       "      <td>[javascript, jquery, xml, json]</td>\n",
       "      <td>1</td>\n",
       "      <td>[table, database, id, field]</td>\n",
       "    </tr>\n",
       "    <tr>\n",
       "      <th>17512</th>\n",
       "      <td>56521</td>\n",
       "      <td>Inner join vs Where</td>\n",
       "      <td>[sql, performance, oracle]</td>\n",
       "      <td>1</td>\n",
       "      <td>[table, database, id, field]</td>\n",
       "    </tr>\n",
       "    <tr>\n",
       "      <th>17517</th>\n",
       "      <td>31298</td>\n",
       "      <td>Jaxb equivalent in C#</td>\n",
       "      <td>[c#, linq, linq-to-xml, jaxb]</td>\n",
       "      <td>1</td>\n",
       "      <td>[table, database, id, field]</td>\n",
       "    </tr>\n",
       "    <tr>\n",
       "      <th>17523</th>\n",
       "      <td>50980</td>\n",
       "      <td>Delete only 500 rows from a table</td>\n",
       "      <td>[sql, sql-server, tsql]</td>\n",
       "      <td>1</td>\n",
       "      <td>[table, database, id, field]</td>\n",
       "    </tr>\n",
       "    <tr>\n",
       "      <th>17532</th>\n",
       "      <td>15850</td>\n",
       "      <td>How do you shrink a UIPickerView on the iPhone?</td>\n",
       "      <td>[ios, interface-builder, uipickerview, picker]</td>\n",
       "      <td>1</td>\n",
       "      <td>[table, database, id, field]</td>\n",
       "    </tr>\n",
       "    <tr>\n",
       "      <th>17540</th>\n",
       "      <td>39493</td>\n",
       "      <td>Merging data between databases</td>\n",
       "      <td>[sql, database, merge, migration]</td>\n",
       "      <td>1</td>\n",
       "      <td>[table, database, id, field]</td>\n",
       "    </tr>\n",
       "    <tr>\n",
       "      <th>17557</th>\n",
       "      <td>48205</td>\n",
       "      <td>Delphi - How do I fix this strange TGrid behav...</td>\n",
       "      <td>[delphi, drag-and-drop, vcl, delphi-2007]</td>\n",
       "      <td>1</td>\n",
       "      <td>[table, database, id, field]</td>\n",
       "    </tr>\n",
       "    <tr>\n",
       "      <th>17571</th>\n",
       "      <td>20849</td>\n",
       "      <td>Difference between 'git log origin/master' vs ...</td>\n",
       "      <td>[git]</td>\n",
       "      <td>1</td>\n",
       "      <td>[table, database, id, field]</td>\n",
       "    </tr>\n",
       "    <tr>\n",
       "      <th>17596</th>\n",
       "      <td>3542</td>\n",
       "      <td>How do I synchronize two Oracle Databases?</td>\n",
       "      <td>[database, oracle, synchronization]</td>\n",
       "      <td>1</td>\n",
       "      <td>[table, database, id, field]</td>\n",
       "    </tr>\n",
       "    <tr>\n",
       "      <th>17603</th>\n",
       "      <td>40011</td>\n",
       "      <td>SQL Query - Using Order By in UNION</td>\n",
       "      <td>[sql, ms-access, sorting, sql-order-by, union]</td>\n",
       "      <td>1</td>\n",
       "      <td>[table, database, id, field]</td>\n",
       "    </tr>\n",
       "    <tr>\n",
       "      <th>17610</th>\n",
       "      <td>16343</td>\n",
       "      <td>Most helpful NDepend CQL queries</td>\n",
       "      <td>[ndepend, cql]</td>\n",
       "      <td>1</td>\n",
       "      <td>[table, database, id, field]</td>\n",
       "    </tr>\n",
       "    <tr>\n",
       "      <th>17612</th>\n",
       "      <td>50286</td>\n",
       "      <td>Which 3D Model format should I be using?</td>\n",
       "      <td>[graphics, model, 3d, collada]</td>\n",
       "      <td>1</td>\n",
       "      <td>[table, database, id, field]</td>\n",
       "    </tr>\n",
       "    <tr>\n",
       "      <th>17616</th>\n",
       "      <td>49477</td>\n",
       "      <td>SQL 2005 SMO - find referencing table</td>\n",
       "      <td>[sql-server, smo]</td>\n",
       "      <td>1</td>\n",
       "      <td>[table, database, id, field]</td>\n",
       "    </tr>\n",
       "  </tbody>\n",
       "</table>\n",
       "<p>1602 rows × 5 columns</p>\n",
       "</div>"
      ],
      "text/plain": [
       "       index                                              Title  \\\n",
       "11     56304                            MySQL indices and order   \n",
       "12     52561                             varchar vs. mediumtext   \n",
       "23     28787           How to efficiently use MySQLDB SScursor?   \n",
       "29     40155  How to set a GUID as ADO query parameters from...   \n",
       "43      6792  Am I immune to SQL injections if I use stored ...   \n",
       "53     37518                           Implementing IEnumerable   \n",
       "58     15196                  SELECT FOR UPDATE with SQL Server   \n",
       "67     57230                              Entity Framework Guid   \n",
       "125    47487   How do you transform a Linq query result to XML?   \n",
       "128    19163  How to return the value of AUTO INCREMENT colu...   \n",
       "131    47224                                  MySQL limitations   \n",
       "148    13017  SQL Select: Update if exists, Insert if not - ...   \n",
       "160     7285                          Hidden features of PL/SQL   \n",
       "167     5609       Getting distinct rows from a left outer join   \n",
       "169    21334  Adding Buttons inside cell of JTable along wit...   \n",
       "179    35287  SELECT only rows that contain only alphanumeri...   \n",
       "181     3172  Select newly added Row - DataGridView and Bind...   \n",
       "191    11770  What does the \"Add DROP TABLE / VIEW / PROCEDU...   \n",
       "200     2869  Passing an array of parameters to a stored pro...   \n",
       "212    10241                     django ManyToMany through help   \n",
       "218    21387                 \"Auto increment\" alphabet in java?   \n",
       "229    12012    Netbeans/Ruby - extraneous(?) autocomplete info   \n",
       "238     8149  Is there an Oracle SQL query that aggregates m...   \n",
       "245    48820  Eclipse RCP: Where should I keep my model obje...   \n",
       "252    55457  What Collation is the best for data type INT i...   \n",
       "255    30122              Can you data bind a TreeView control?   \n",
       "258    27758           MDX Calculated Member CrossJoin question   \n",
       "259     2925  In an SSIS package, how do you insert master-d...   \n",
       "267    43031                            SELECT * FROM in MySQLi   \n",
       "274     6795  Report group headings not repeating on every page   \n",
       "...      ...                                                ...   \n",
       "17306  47437  What does mysql error 1025 (HY000): Error on r...   \n",
       "17311  21429  Using Html.ActionLink to call action on differ...   \n",
       "17314    803     How to check if resultset has one row or more?   \n",
       "17322  15694                   PHP Try and Catch for SQL Insert   \n",
       "17359  15332     Add onblur event to ASP.Net MVC's Html.TextBox   \n",
       "17393  37069                How to log SQL statements in Grails   \n",
       "17403  52233                        Query on Select System Call   \n",
       "17404  57707                                  Cassandra vs Riak   \n",
       "17419  52019  Using awk (or sed) to remove newlines based on...   \n",
       "17423  37226                     Condition within JOIN or WHERE   \n",
       "17441  39336  Django model with 2 foreign keys from the same...   \n",
       "17454   3295            Best method to search hierarchical data   \n",
       "17456  47105        NHibernate: Convert Guid to string in query   \n",
       "17466   9771  Perform INSERT with SELECT to insert multiple ...   \n",
       "17485  36267                          SQL count(*) and distinct   \n",
       "17500   1175  SQL GROUP BY CASE statement with aggregate fun...   \n",
       "17501  13595  Why are SQL fields lengths always (2^n)-1 unle...   \n",
       "17505   2788                      When to prefer JSON over XML?   \n",
       "17512  56521                                Inner join vs Where   \n",
       "17517  31298                              Jaxb equivalent in C#   \n",
       "17523  50980                  Delete only 500 rows from a table   \n",
       "17532  15850    How do you shrink a UIPickerView on the iPhone?   \n",
       "17540  39493                     Merging data between databases   \n",
       "17557  48205  Delphi - How do I fix this strange TGrid behav...   \n",
       "17571  20849  Difference between 'git log origin/master' vs ...   \n",
       "17596   3542         How do I synchronize two Oracle Databases?   \n",
       "17603  40011                SQL Query - Using Order By in UNION   \n",
       "17610  16343                   Most helpful NDepend CQL queries   \n",
       "17612  50286           Which 3D Model format should I be using?   \n",
       "17616  49477              SQL 2005 SMO - find referencing table   \n",
       "\n",
       "                                                    Tags  predicted_topic  \\\n",
       "11                       [mysql, indexing, sql-order-by]                1   \n",
       "12                                [mysql, text, varchar]                1   \n",
       "23                 [python, mysql, optimization, cursor]                1   \n",
       "29                                   [delphi, guid, ado]                1   \n",
       "43     [database, security, stored-procedures, sql-in...                1   \n",
       "53                               [linq-to-sql, generics]                1   \n",
       "58     [sql, sql-server, sql-server-2005, tsql, read-...                1   \n",
       "67                       [c#, asp.net, entity-framework]                1   \n",
       "125                              [c#, linq, linq-to-xml]                1   \n",
       "128                        [sqlite, vb6, auto-increment]                1   \n",
       "131                                    [mysql, database]                1   \n",
       "148                        [sql, sql-server, sql-update]                1   \n",
       "160                                 [sql, oracle, plsql]                1   \n",
       "167      [sql, sql-server, sql-server-2005, linq-to-sql]                1   \n",
       "169                       [java, swing, jtable, jbutton]                1   \n",
       "179                                       [mysql, regex]                1   \n",
       "181    [c#, winforms, datagridview, sql-server-ce, bi...                1   \n",
       "191                             [php, mysql, phpmyadmin]                1   \n",
       "200            [sql, sql-server-2005, stored-procedures]                1   \n",
       "212                        [django, model, many-to-many]                1   \n",
       "218                               [java, auto-increment]                1   \n",
       "229        [ruby-on-rails, ruby, netbeans, autocomplete]                1   \n",
       "238     [sql, oracle, aggregation, string-concatenation]                1   \n",
       "245         [java, eclipse, eclipse-plugin, eclipse-rcp]                1   \n",
       "252                        [sql, mysql, database, types]                1   \n",
       "255                         [c#, treeview, data-binding]                1   \n",
       "258                                   [olap, mdx, cubes]                1   \n",
       "259              [ssis, insert, identity, master-detail]                1   \n",
       "267                                        [php, mysqli]                1   \n",
       "274                                 [reporting-services]                1   \n",
       "...                                                  ...              ...   \n",
       "17306                          [mysql, mysql-error-1025]                1   \n",
       "17311                                      [asp.net-mvc]                1   \n",
       "17314                       [java, sql, jdbc, resultset]                1   \n",
       "17322          [php, mysql, performance, error-handling]                1   \n",
       "17359       [c#, javascript, asp.net-mvc-2, html-helper]                1   \n",
       "17393                             [sql, logging, grails]                1   \n",
       "17403                                       [c, sockets]                1   \n",
       "17404                                  [cassandra, riak]                1   \n",
       "17419                            [bash, shell, sed, awk]                1   \n",
       "17423                                 [sql, performance]                1   \n",
       "17441                  [django, foreign-keys, ambiguity]                1   \n",
       "17454    [c#, asp.net, sql-server-2005, recursive-query]                1   \n",
       "17456                                       [nhibernate]                1   \n",
       "17466                 [sql, sql-server, sql-server-2005]                1   \n",
       "17485                                              [sql]                1   \n",
       "17500       [sql, sql-server, sql-server-2005, group-by]                1   \n",
       "17501                        [database, schema, varchar]                1   \n",
       "17505                    [javascript, jquery, xml, json]                1   \n",
       "17512                         [sql, performance, oracle]                1   \n",
       "17517                      [c#, linq, linq-to-xml, jaxb]                1   \n",
       "17523                            [sql, sql-server, tsql]                1   \n",
       "17532     [ios, interface-builder, uipickerview, picker]                1   \n",
       "17540                  [sql, database, merge, migration]                1   \n",
       "17557          [delphi, drag-and-drop, vcl, delphi-2007]                1   \n",
       "17571                                              [git]                1   \n",
       "17596                [database, oracle, synchronization]                1   \n",
       "17603     [sql, ms-access, sorting, sql-order-by, union]                1   \n",
       "17610                                     [ndepend, cql]                1   \n",
       "17612                     [graphics, model, 3d, collada]                1   \n",
       "17616                                  [sql-server, smo]                1   \n",
       "\n",
       "                     predicted_tags  \n",
       "11     [table, database, id, field]  \n",
       "12     [table, database, id, field]  \n",
       "23     [table, database, id, field]  \n",
       "29     [table, database, id, field]  \n",
       "43     [table, database, id, field]  \n",
       "53     [table, database, id, field]  \n",
       "58     [table, database, id, field]  \n",
       "67     [table, database, id, field]  \n",
       "125    [table, database, id, field]  \n",
       "128    [table, database, id, field]  \n",
       "131    [table, database, id, field]  \n",
       "148    [table, database, id, field]  \n",
       "160    [table, database, id, field]  \n",
       "167    [table, database, id, field]  \n",
       "169    [table, database, id, field]  \n",
       "179    [table, database, id, field]  \n",
       "181    [table, database, id, field]  \n",
       "191    [table, database, id, field]  \n",
       "200    [table, database, id, field]  \n",
       "212    [table, database, id, field]  \n",
       "218    [table, database, id, field]  \n",
       "229    [table, database, id, field]  \n",
       "238    [table, database, id, field]  \n",
       "245    [table, database, id, field]  \n",
       "252    [table, database, id, field]  \n",
       "255    [table, database, id, field]  \n",
       "258    [table, database, id, field]  \n",
       "259    [table, database, id, field]  \n",
       "267    [table, database, id, field]  \n",
       "274    [table, database, id, field]  \n",
       "...                             ...  \n",
       "17306  [table, database, id, field]  \n",
       "17311  [table, database, id, field]  \n",
       "17314  [table, database, id, field]  \n",
       "17322  [table, database, id, field]  \n",
       "17359  [table, database, id, field]  \n",
       "17393  [table, database, id, field]  \n",
       "17403  [table, database, id, field]  \n",
       "17404  [table, database, id, field]  \n",
       "17419  [table, database, id, field]  \n",
       "17423  [table, database, id, field]  \n",
       "17441  [table, database, id, field]  \n",
       "17454  [table, database, id, field]  \n",
       "17456  [table, database, id, field]  \n",
       "17466  [table, database, id, field]  \n",
       "17485  [table, database, id, field]  \n",
       "17500  [table, database, id, field]  \n",
       "17501  [table, database, id, field]  \n",
       "17505  [table, database, id, field]  \n",
       "17512  [table, database, id, field]  \n",
       "17517  [table, database, id, field]  \n",
       "17523  [table, database, id, field]  \n",
       "17532  [table, database, id, field]  \n",
       "17540  [table, database, id, field]  \n",
       "17557  [table, database, id, field]  \n",
       "17571  [table, database, id, field]  \n",
       "17596  [table, database, id, field]  \n",
       "17603  [table, database, id, field]  \n",
       "17610  [table, database, id, field]  \n",
       "17612  [table, database, id, field]  \n",
       "17616  [table, database, id, field]  \n",
       "\n",
       "[1602 rows x 5 columns]"
      ]
     },
     "execution_count": 315,
     "metadata": {},
     "output_type": "execute_result"
    }
   ],
   "source": [
    "response_df[response_df[\"predicted_topic\"] == 1][response_df.columns[0:5]]"
   ]
  },
  {
   "cell_type": "code",
   "execution_count": 317,
   "metadata": {},
   "outputs": [
    {
     "data": {
      "text/plain": [
       "0.05173965660691397"
      ]
     },
     "execution_count": 317,
     "metadata": {},
     "output_type": "execute_result"
    }
   ],
   "source": [
    "get_tagging_score(response_df[\"Tags\"], response_df[\"predicted_tags\"])"
   ]
  },
  {
   "cell_type": "code",
   "execution_count": 318,
   "metadata": {
    "collapsed": true
   },
   "outputs": [],
   "source": [
    "pyLDAvis.enable_notebook()\n",
    "panel = pyLDAvis.sklearn.prepare(lda_final, tf_train, C_vect, mds='tsne')\n",
    "pyLDAvis.save_html(panel, 'lda.html')"
   ]
  },
  {
   "cell_type": "markdown",
   "metadata": {
    "collapsed": true
   },
   "source": [
    "## Exploration non supervisée en utilisant la méthode PLSI : ##\n",
    "\n",
    "La méthode PLSI est équivalente a utilisé un algorithme NMF sur une transformation tf_idf sur notre corpus de document."
   ]
  },
  {
   "cell_type": "markdown",
   "metadata": {
    "collapsed": true
   },
   "source": [
    "### Transformation de nos données textuelles en données numériques à l'aide de tf-idf : ###\n",
    "\n",
    "La première étape consiste donc à appliquer dans un premier temps une transformation en matrice de mots de nos documents avec un coefficient reflétant la fréquence de mots respective à leur fréquence d'apparition dans les documents. Le nombre de thème choisi sera similaire à celui du modèle LDA.\n"
   ]
  },
  {
   "cell_type": "code",
   "execution_count": 252,
   "metadata": {
    "collapsed": true
   },
   "outputs": [],
   "source": [
    "nb_topics_nmf = lda_model.best_params_[\"n_components\"]\n",
    "word_min_nmf = 0.001\n",
    "word_max_nmf= 0.3"
   ]
  },
  {
   "cell_type": "code",
   "execution_count": 253,
   "metadata": {
    "collapsed": true
   },
   "outputs": [],
   "source": [
    "tf_vectorizer = TfidfVectorizer(input='content', stop_words=\"english\", tokenizer=tokenizer_idf, \n",
    "                                min_df=word_min_nmf, max_df=word_max_nmf)"
   ]
  },
  {
   "cell_type": "code",
   "execution_count": 254,
   "metadata": {
    "collapsed": true
   },
   "outputs": [],
   "source": [
    "doc = tf_vectorizer.fit_transform(table_travail[\"BodyTitle\"])"
   ]
  },
  {
   "cell_type": "code",
   "execution_count": 319,
   "metadata": {},
   "outputs": [
    {
     "data": {
      "text/plain": [
       "9.6045197740113"
      ]
     },
     "execution_count": 319,
     "metadata": {},
     "output_type": "execute_result"
    }
   ],
   "source": [
    "len(set(list(f_dist_tags)) & set(tf_vectorizer.vocabulary_))/ len(set(list(f_dist_tags))) * 100"
   ]
  },
  {
   "cell_type": "code",
   "execution_count": 320,
   "metadata": {},
   "outputs": [
    {
     "data": {
      "text/plain": [
       "40.77984625358896"
      ]
     },
     "execution_count": 320,
     "metadata": {},
     "output_type": "execute_result"
    }
   ],
   "source": [
    "len(set(list(f_dist_tags)) & set(tf_vectorizer.stop_words_))/ len(set(list(f_dist_tags))) * 100"
   ]
  },
  {
   "cell_type": "code",
   "execution_count": 321,
   "metadata": {},
   "outputs": [
    {
     "data": {
      "text/plain": [
       "50.50476984347504"
      ]
     },
     "execution_count": 321,
     "metadata": {},
     "output_type": "execute_result"
    }
   ],
   "source": [
    "len(set(list(f_dist_tags)) & set(list(f_dist_bodytitle)))/len(set(list(f_dist_tags))) * 100"
   ]
  },
  {
   "cell_type": "code",
   "execution_count": 257,
   "metadata": {
    "collapsed": true
   },
   "outputs": [],
   "source": [
    "y_tags_nmf = table_travail[[\"Title\",\"Tags\"]]"
   ]
  },
  {
   "cell_type": "markdown",
   "metadata": {},
   "source": [
    "### Séparation de notre jeu de données en données d'entrainement et données de test : ###"
   ]
  },
  {
   "cell_type": "code",
   "execution_count": 258,
   "metadata": {
    "collapsed": true
   },
   "outputs": [],
   "source": [
    "tfidf_train, tfidf_test, y_tags_train, y_tags_test  = train_test_split(doc, y_tags, test_size=0.3)"
   ]
  },
  {
   "cell_type": "markdown",
   "metadata": {},
   "source": [
    "### Application de l'algorithme NMF et interprétation des résultats obtenus : ###"
   ]
  },
  {
   "cell_type": "code",
   "execution_count": 259,
   "metadata": {
    "collapsed": true
   },
   "outputs": [],
   "source": [
    "nmf = NMF(n_components=nb_topics_nmf, random_state=1,\n",
    "          beta_loss='kullback-leibler', solver='mu', max_iter=1000, alpha=.5,\n",
    "          l1_ratio=1).fit(tfidf_train)"
   ]
  },
  {
   "cell_type": "code",
   "execution_count": 260,
   "metadata": {},
   "outputs": [
    {
     "name": "stdout",
     "output_type": "stream",
     "text": [
      "Topic #0: example thanks question case problem idea answer thing edit help\n",
      "Topic #1: file directory path folder command copy configuration machine version error\n",
      "Topic #2: class method function code object int java foo void instance\n",
      "Topic #3: value string array function example character int number key result\n",
      "Topic #4: function javascript page jquery code browser button document click link\n",
      "Topic #5: c++ code language library bit program memory time compiler performance\n",
      "Topic #6: database table sql column query server data mysql row db\n",
      "Topic #7: image size color background text width height http png position\n",
      "Topic #8: list item order collection element structure group index set linq\n",
      "Topic #9: value control property default studio custom code option assembly wpf\n",
      "Topic #10: .net application asp.net access web service mvc app framework user\n",
      "Topic #11: application java app window event user api iphone button thanks\n",
      "Topic #12: html element id content page cs div tag class document\n",
      "Topic #13: project change source version framework development developer eclipse test tool\n",
      "Topic #14: line command window script process python output application code program\n",
      "Topic #15: code error exception test message int return problem block result\n",
      "Topic #16: method object view model action controller ruby code django instance\n",
      "Topic #17: server http php com client python request site access google\n",
      "Topic #18: c# time difference date number .net day code datetime format\n",
      "Topic #19: data type form field error input text class message xml\n"
     ]
    }
   ],
   "source": [
    "print_top_words(nmf, tf_vectorizer.get_feature_names(), 10)"
   ]
  },
  {
   "cell_type": "markdown",
   "metadata": {},
   "source": [
    "** Figure 003: ** Les résultats obtenus sont relativement similaires à l'algorithme LDA, certains peuvent facilement interpréter, d'autres sont plus difficiles à interpréter."
   ]
  },
  {
   "cell_type": "code",
   "execution_count": 261,
   "metadata": {
    "collapsed": true
   },
   "outputs": [],
   "source": [
    "response_nmf = nmf.transform(tfidf_test)"
   ]
  },
  {
   "cell_type": "code",
   "execution_count": 323,
   "metadata": {
    "collapsed": true
   },
   "outputs": [],
   "source": [
    "response_df_nmf = y_tags_test.copy()\n",
    "response_df_nmf.reset_index(inplace=True)\n",
    "response_df_nmf[\"predicted_topics\"] = return_main_topic(response_nmf)\n",
    "response_df_nmf[\"nmf_tags\"] = \\\n",
    "response_df_nmf[\"predicted_topics\"].apply(lambda x: \n",
    "                                          return_relevant_tags(x, tf_vectorizer.get_feature_names(), \n",
    "                                                               nmf.components_, 5))"
   ]
  },
  {
   "cell_type": "code",
   "execution_count": 326,
   "metadata": {},
   "outputs": [
    {
     "data": {
      "text/html": [
       "<div>\n",
       "<style>\n",
       "    .dataframe thead tr:only-child th {\n",
       "        text-align: right;\n",
       "    }\n",
       "\n",
       "    .dataframe thead th {\n",
       "        text-align: left;\n",
       "    }\n",
       "\n",
       "    .dataframe tbody tr th {\n",
       "        vertical-align: top;\n",
       "    }\n",
       "</style>\n",
       "<table border=\"1\" class=\"dataframe\">\n",
       "  <thead>\n",
       "    <tr style=\"text-align: right;\">\n",
       "      <th></th>\n",
       "      <th>index</th>\n",
       "      <th>Title</th>\n",
       "      <th>Tags</th>\n",
       "      <th>predicted_topics</th>\n",
       "      <th>nmf_tags</th>\n",
       "    </tr>\n",
       "  </thead>\n",
       "  <tbody>\n",
       "    <tr>\n",
       "      <th>0</th>\n",
       "      <td>43200</td>\n",
       "      <td>Detect system standby/sleep/hibernate from .NE...</td>\n",
       "      <td>[c#, .net, windows-services, power-state]</td>\n",
       "      <td>11</td>\n",
       "      <td>[application, java, app, window]</td>\n",
       "    </tr>\n",
       "    <tr>\n",
       "      <th>1</th>\n",
       "      <td>42265</td>\n",
       "      <td>My pay pal button will not link to pay pal. It...</td>\n",
       "      <td>[asp.net, vb.net, paypal, paypal-buttons]</td>\n",
       "      <td>12</td>\n",
       "      <td>[html, element, id, content]</td>\n",
       "    </tr>\n",
       "    <tr>\n",
       "      <th>2</th>\n",
       "      <td>54896</td>\n",
       "      <td>Does RubyMine 2.0 earn its $99 as a Rails IDE?</td>\n",
       "      <td>[ruby-on-rails, ide, rubymine]</td>\n",
       "      <td>16</td>\n",
       "      <td>[method, object, view, model]</td>\n",
       "    </tr>\n",
       "    <tr>\n",
       "      <th>3</th>\n",
       "      <td>19767</td>\n",
       "      <td>Java GUI and Multiple Instances of the SwingWo...</td>\n",
       "      <td>[java, user-interface, swing, swingworker]</td>\n",
       "      <td>11</td>\n",
       "      <td>[application, java, app, window]</td>\n",
       "    </tr>\n",
       "    <tr>\n",
       "      <th>4</th>\n",
       "      <td>49542</td>\n",
       "      <td>Is it ethical to monitor users?</td>\n",
       "      <td>[security, tracking, privacy, corporate-policy]</td>\n",
       "      <td>0</td>\n",
       "      <td>[example, thanks, question, case]</td>\n",
       "    </tr>\n",
       "  </tbody>\n",
       "</table>\n",
       "</div>"
      ],
      "text/plain": [
       "   index                                              Title  \\\n",
       "0  43200  Detect system standby/sleep/hibernate from .NE...   \n",
       "1  42265  My pay pal button will not link to pay pal. It...   \n",
       "2  54896     Does RubyMine 2.0 earn its $99 as a Rails IDE?   \n",
       "3  19767  Java GUI and Multiple Instances of the SwingWo...   \n",
       "4  49542                    Is it ethical to monitor users?   \n",
       "\n",
       "                                              Tags  predicted_topics  \\\n",
       "0        [c#, .net, windows-services, power-state]                11   \n",
       "1        [asp.net, vb.net, paypal, paypal-buttons]                12   \n",
       "2                   [ruby-on-rails, ide, rubymine]                16   \n",
       "3       [java, user-interface, swing, swingworker]                11   \n",
       "4  [security, tracking, privacy, corporate-policy]                 0   \n",
       "\n",
       "                            nmf_tags  \n",
       "0   [application, java, app, window]  \n",
       "1       [html, element, id, content]  \n",
       "2      [method, object, view, model]  \n",
       "3   [application, java, app, window]  \n",
       "4  [example, thanks, question, case]  "
      ]
     },
     "execution_count": 326,
     "metadata": {},
     "output_type": "execute_result"
    }
   ],
   "source": [
    "response_df_nmf.head(5)"
   ]
  },
  {
   "cell_type": "code",
   "execution_count": 327,
   "metadata": {},
   "outputs": [
    {
     "data": {
      "text/plain": [
       "0.058983813629832384"
      ]
     },
     "execution_count": 327,
     "metadata": {},
     "output_type": "execute_result"
    }
   ],
   "source": [
    "get_tagging_score(response_df_nmf[\"Tags\"], response_df_nmf[\"nmf_tags\"])"
   ]
  },
  {
   "cell_type": "markdown",
   "metadata": {},
   "source": [
    "## Evaluation de nos algorithmes sur un jeu de test indépendant : ##"
   ]
  },
  {
   "cell_type": "code",
   "execution_count": 328,
   "metadata": {
    "collapsed": true
   },
   "outputs": [],
   "source": [
    "table_eval = pd.read_json(\"table_eval.json\")"
   ]
  },
  {
   "cell_type": "code",
   "execution_count": 330,
   "metadata": {
    "collapsed": true
   },
   "outputs": [],
   "source": [
    "tf_eval = C_vect.transform(table_eval[\"BodyTitle\"])\n",
    "lda_eval = lda_final.transform(tf_eval)\n",
    "table_eval[\"predicted_topics\"] = return_main_topic(lda_eval)\n",
    "table_eval[\"predicted_tags\"] = \\\n",
    "table_eval[\"predicted_topics\"].apply(lambda x: \n",
    "                                     return_relevant_tags(x, C_vect.get_feature_names(), rwk, 5))"
   ]
  },
  {
   "cell_type": "code",
   "execution_count": 341,
   "metadata": {},
   "outputs": [
    {
     "data": {
      "text/html": [
       "<div>\n",
       "<style>\n",
       "    .dataframe thead tr:only-child th {\n",
       "        text-align: right;\n",
       "    }\n",
       "\n",
       "    .dataframe thead th {\n",
       "        text-align: left;\n",
       "    }\n",
       "\n",
       "    .dataframe tbody tr th {\n",
       "        vertical-align: top;\n",
       "    }\n",
       "</style>\n",
       "<table border=\"1\" class=\"dataframe\">\n",
       "  <thead>\n",
       "    <tr style=\"text-align: right;\">\n",
       "      <th></th>\n",
       "      <th>Body</th>\n",
       "      <th>BodyTitle</th>\n",
       "      <th>CreationDate</th>\n",
       "      <th>Score</th>\n",
       "      <th>Tags</th>\n",
       "      <th>Title</th>\n",
       "      <th>predicted_topics</th>\n",
       "      <th>predicted_tags</th>\n",
       "    </tr>\n",
       "  </thead>\n",
       "  <tbody>\n",
       "    <tr>\n",
       "      <th>9881</th>\n",
       "      <td>I thoroughly enjoy the amazing power of LINQPA...</td>\n",
       "      <td>Automatic way to move Visual Studio project in...</td>\n",
       "      <td>2010-11-10 20:10:45</td>\n",
       "      <td>4</td>\n",
       "      <td>[visual-studio-2010, linqpad]</td>\n",
       "      <td>Automatic way to move Visual Studio project in...</td>\n",
       "      <td>16</td>\n",
       "      <td>[project, version, file, directory]</td>\n",
       "    </tr>\n",
       "    <tr>\n",
       "      <th>9889</th>\n",
       "      <td>For my web application, I am creating a namesp...</td>\n",
       "      <td>How to create private variables within a names...</td>\n",
       "      <td>2010-11-10 20:21:48</td>\n",
       "      <td>8</td>\n",
       "      <td>[javascript, namespaces, private-members]</td>\n",
       "      <td>How to create private variables within a names...</td>\n",
       "      <td>4</td>\n",
       "      <td>[int, class, interface, char]</td>\n",
       "    </tr>\n",
       "    <tr>\n",
       "      <th>9893</th>\n",
       "      <td>I'm using Python's csv module to do some readi...</td>\n",
       "      <td>Overwriting a specific row in a csv file using...</td>\n",
       "      <td>2010-11-10 20:30:23</td>\n",
       "      <td>5</td>\n",
       "      <td>[python, csv]</td>\n",
       "      <td>Overwriting a specific row in a csv file using...</td>\n",
       "      <td>10</td>\n",
       "      <td>[file, image, header, color]</td>\n",
       "    </tr>\n",
       "    <tr>\n",
       "      <th>9920</th>\n",
       "      <td>I've been trying to get a JavaScript regex com...</td>\n",
       "      <td>Javascript camelCase to Regular Form I've been...</td>\n",
       "      <td>2010-11-10 21:30:59</td>\n",
       "      <td>119</td>\n",
       "      <td>[javascript, regex]</td>\n",
       "      <td>Javascript camelCase to Regular Form</td>\n",
       "      <td>12</td>\n",
       "      <td>[error, number, message, byte]</td>\n",
       "    </tr>\n",
       "    <tr>\n",
       "      <th>9930</th>\n",
       "      <td>I am just starting to learn Ruby (to eventuall...</td>\n",
       "      <td>Does Ruby support unicode and how does it work...</td>\n",
       "      <td>2010-11-10 21:44:05</td>\n",
       "      <td>31</td>\n",
       "      <td>[ruby, unicode]</td>\n",
       "      <td>Does Ruby support unicode and how does it work?</td>\n",
       "      <td>7</td>\n",
       "      <td>[java, string, xml, character]</td>\n",
       "    </tr>\n",
       "    <tr>\n",
       "      <th>9932</th>\n",
       "      <td>When my Activity with a ScrollView layout and ...</td>\n",
       "      <td>OnScreen keyboard opens automatically when Act...</td>\n",
       "      <td>2010-11-10 21:46:25</td>\n",
       "      <td>32</td>\n",
       "      <td>[android, keyboard, focus, scrollview]</td>\n",
       "      <td>OnScreen keyboard opens automatically when Act...</td>\n",
       "      <td>10</td>\n",
       "      <td>[file, image, header, color]</td>\n",
       "    </tr>\n",
       "    <tr>\n",
       "      <th>9938</th>\n",
       "      <td>I want to display an image within an iframe on...</td>\n",
       "      <td>Displaying image in Iframe I want to display a...</td>\n",
       "      <td>2010-11-10 21:53:18</td>\n",
       "      <td>5</td>\n",
       "      <td>[php, html, iframe]</td>\n",
       "      <td>Displaying image in Iframe</td>\n",
       "      <td>6</td>\n",
       "      <td>[page, html, javascript, div]</td>\n",
       "    </tr>\n",
       "    <tr>\n",
       "      <th>9941</th>\n",
       "      <td>Im pulling a date from a database which is for...</td>\n",
       "      <td>PHP Checking if the current date is before or ...</td>\n",
       "      <td>2010-11-10 22:03:57</td>\n",
       "      <td>27</td>\n",
       "      <td>[php]</td>\n",
       "      <td>PHP Checking if the current date is before or ...</td>\n",
       "      <td>3</td>\n",
       "      <td>[function, event, php, date]</td>\n",
       "    </tr>\n",
       "    <tr>\n",
       "      <th>9951</th>\n",
       "      <td>Example A\\nStudy the following snippet:\\npubli...</td>\n",
       "      <td>Generics type inference fails? Example A\\nStud...</td>\n",
       "      <td>2010-11-10 22:41:30</td>\n",
       "      <td>8</td>\n",
       "      <td>[java, generics, type-inference]</td>\n",
       "      <td>Generics type inference fails?</td>\n",
       "      <td>9</td>\n",
       "      <td>[method, object, property, class]</td>\n",
       "    </tr>\n",
       "    <tr>\n",
       "      <th>9956</th>\n",
       "      <td>I know span strong and em. Are there any other...</td>\n",
       "      <td>XHTML - What elements are allowed within the &lt;...</td>\n",
       "      <td>2010-11-10 22:48:42</td>\n",
       "      <td>18</td>\n",
       "      <td>[html, xhtml, hyperlink, tags]</td>\n",
       "      <td>XHTML - What elements are allowed within the &lt;...</td>\n",
       "      <td>6</td>\n",
       "      <td>[page, html, javascript, div]</td>\n",
       "    </tr>\n",
       "    <tr>\n",
       "      <th>9966</th>\n",
       "      <td>I want to generate an XML Schema based upon a ...</td>\n",
       "      <td>Programmatically use XSD.exe tool feature (gen...</td>\n",
       "      <td>2010-11-10 23:08:37</td>\n",
       "      <td>7</td>\n",
       "      <td>[.net, xsd.exe, fcl]</td>\n",
       "      <td>Programmatically use XSD.exe tool feature (gen...</td>\n",
       "      <td>13</td>\n",
       "      <td>[application, question, framework, app]</td>\n",
       "    </tr>\n",
       "    <tr>\n",
       "      <th>9967</th>\n",
       "      <td>I'm using Mono and C#. I would like to create ...</td>\n",
       "      <td>How to draw something (line, circle etc.) on a...</td>\n",
       "      <td>2010-11-10 23:10:46</td>\n",
       "      <td>4</td>\n",
       "      <td>[c#, mono, gtk, gtk#]</td>\n",
       "      <td>How to draw something (line, circle etc.) on a...</td>\n",
       "      <td>19</td>\n",
       "      <td>[window, c++, program, code]</td>\n",
       "    </tr>\n",
       "    <tr>\n",
       "      <th>9973</th>\n",
       "      <td>I remember reading before about the significan...</td>\n",
       "      <td>what's the difference between including a para...</td>\n",
       "      <td>2010-11-10 23:19:49</td>\n",
       "      <td>7</td>\n",
       "      <td>[c++, function, declaration]</td>\n",
       "      <td>what's the difference between including a para...</td>\n",
       "      <td>4</td>\n",
       "      <td>[int, class, interface, char]</td>\n",
       "    </tr>\n",
       "    <tr>\n",
       "      <th>9981</th>\n",
       "      <td>I am using the jQuery tablesorter plugin.  I a...</td>\n",
       "      <td>jQuery tablesorter how to find sortList object...</td>\n",
       "      <td>2010-11-10 23:33:09</td>\n",
       "      <td>13</td>\n",
       "      <td>[jquery, sorting, tablesorter]</td>\n",
       "      <td>jQuery tablesorter how to find sortList object</td>\n",
       "      <td>6</td>\n",
       "      <td>[page, html, javascript, div]</td>\n",
       "    </tr>\n",
       "    <tr>\n",
       "      <th>9994</th>\n",
       "      <td>I have a model like the one below. When an ins...</td>\n",
       "      <td>Django: Obtaining the absolute URL without acc...</td>\n",
       "      <td>2010-11-10 23:56:27</td>\n",
       "      <td>15</td>\n",
       "      <td>[python, django, django-signals, django-settings]</td>\n",
       "      <td>Django: Obtaining the absolute URL without acc...</td>\n",
       "      <td>9</td>\n",
       "      <td>[method, object, property, class]</td>\n",
       "    </tr>\n",
       "  </tbody>\n",
       "</table>\n",
       "</div>"
      ],
      "text/plain": [
       "                                                   Body  \\\n",
       "9881  I thoroughly enjoy the amazing power of LINQPA...   \n",
       "9889  For my web application, I am creating a namesp...   \n",
       "9893  I'm using Python's csv module to do some readi...   \n",
       "9920  I've been trying to get a JavaScript regex com...   \n",
       "9930  I am just starting to learn Ruby (to eventuall...   \n",
       "9932  When my Activity with a ScrollView layout and ...   \n",
       "9938  I want to display an image within an iframe on...   \n",
       "9941  Im pulling a date from a database which is for...   \n",
       "9951  Example A\\nStudy the following snippet:\\npubli...   \n",
       "9956  I know span strong and em. Are there any other...   \n",
       "9966  I want to generate an XML Schema based upon a ...   \n",
       "9967  I'm using Mono and C#. I would like to create ...   \n",
       "9973  I remember reading before about the significan...   \n",
       "9981  I am using the jQuery tablesorter plugin.  I a...   \n",
       "9994  I have a model like the one below. When an ins...   \n",
       "\n",
       "                                              BodyTitle         CreationDate  \\\n",
       "9881  Automatic way to move Visual Studio project in...  2010-11-10 20:10:45   \n",
       "9889  How to create private variables within a names...  2010-11-10 20:21:48   \n",
       "9893  Overwriting a specific row in a csv file using...  2010-11-10 20:30:23   \n",
       "9920  Javascript camelCase to Regular Form I've been...  2010-11-10 21:30:59   \n",
       "9930  Does Ruby support unicode and how does it work...  2010-11-10 21:44:05   \n",
       "9932  OnScreen keyboard opens automatically when Act...  2010-11-10 21:46:25   \n",
       "9938  Displaying image in Iframe I want to display a...  2010-11-10 21:53:18   \n",
       "9941  PHP Checking if the current date is before or ...  2010-11-10 22:03:57   \n",
       "9951  Generics type inference fails? Example A\\nStud...  2010-11-10 22:41:30   \n",
       "9956  XHTML - What elements are allowed within the <...  2010-11-10 22:48:42   \n",
       "9966  Programmatically use XSD.exe tool feature (gen...  2010-11-10 23:08:37   \n",
       "9967  How to draw something (line, circle etc.) on a...  2010-11-10 23:10:46   \n",
       "9973  what's the difference between including a para...  2010-11-10 23:19:49   \n",
       "9981  jQuery tablesorter how to find sortList object...  2010-11-10 23:33:09   \n",
       "9994  Django: Obtaining the absolute URL without acc...  2010-11-10 23:56:27   \n",
       "\n",
       "      Score                                               Tags  \\\n",
       "9881      4                      [visual-studio-2010, linqpad]   \n",
       "9889      8          [javascript, namespaces, private-members]   \n",
       "9893      5                                      [python, csv]   \n",
       "9920    119                                [javascript, regex]   \n",
       "9930     31                                    [ruby, unicode]   \n",
       "9932     32             [android, keyboard, focus, scrollview]   \n",
       "9938      5                                [php, html, iframe]   \n",
       "9941     27                                              [php]   \n",
       "9951      8                   [java, generics, type-inference]   \n",
       "9956     18                     [html, xhtml, hyperlink, tags]   \n",
       "9966      7                               [.net, xsd.exe, fcl]   \n",
       "9967      4                              [c#, mono, gtk, gtk#]   \n",
       "9973      7                       [c++, function, declaration]   \n",
       "9981     13                     [jquery, sorting, tablesorter]   \n",
       "9994     15  [python, django, django-signals, django-settings]   \n",
       "\n",
       "                                                  Title  predicted_topics  \\\n",
       "9881  Automatic way to move Visual Studio project in...                16   \n",
       "9889  How to create private variables within a names...                 4   \n",
       "9893  Overwriting a specific row in a csv file using...                10   \n",
       "9920               Javascript camelCase to Regular Form                12   \n",
       "9930    Does Ruby support unicode and how does it work?                 7   \n",
       "9932  OnScreen keyboard opens automatically when Act...                10   \n",
       "9938                         Displaying image in Iframe                 6   \n",
       "9941  PHP Checking if the current date is before or ...                 3   \n",
       "9951                     Generics type inference fails?                 9   \n",
       "9956  XHTML - What elements are allowed within the <...                 6   \n",
       "9966  Programmatically use XSD.exe tool feature (gen...                13   \n",
       "9967  How to draw something (line, circle etc.) on a...                19   \n",
       "9973  what's the difference between including a para...                 4   \n",
       "9981     jQuery tablesorter how to find sortList object                 6   \n",
       "9994  Django: Obtaining the absolute URL without acc...                 9   \n",
       "\n",
       "                               predicted_tags  \n",
       "9881      [project, version, file, directory]  \n",
       "9889            [int, class, interface, char]  \n",
       "9893             [file, image, header, color]  \n",
       "9920           [error, number, message, byte]  \n",
       "9930           [java, string, xml, character]  \n",
       "9932             [file, image, header, color]  \n",
       "9938            [page, html, javascript, div]  \n",
       "9941             [function, event, php, date]  \n",
       "9951        [method, object, property, class]  \n",
       "9956            [page, html, javascript, div]  \n",
       "9966  [application, question, framework, app]  \n",
       "9967             [window, c++, program, code]  \n",
       "9973            [int, class, interface, char]  \n",
       "9981            [page, html, javascript, div]  \n",
       "9994        [method, object, property, class]  "
      ]
     },
     "execution_count": 341,
     "metadata": {},
     "output_type": "execute_result"
    }
   ],
   "source": [
    "table_eval.tail(15)"
   ]
  },
  {
   "cell_type": "code",
   "execution_count": 338,
   "metadata": {},
   "outputs": [
    {
     "data": {
      "text/plain": [
       "0.04918302298272065"
      ]
     },
     "execution_count": 338,
     "metadata": {},
     "output_type": "execute_result"
    }
   ],
   "source": [
    "get_tagging_score(table_eval[\"Tags\"], table_eval[\"predicted_tags\"])"
   ]
  },
  {
   "cell_type": "code",
   "execution_count": null,
   "metadata": {
    "collapsed": true
   },
   "outputs": [],
   "source": []
  }
 ],
 "metadata": {
  "kernelspec": {
   "display_name": "Python 3",
   "language": "python",
   "name": "python3"
  },
  "language_info": {
   "codemirror_mode": {
    "name": "ipython",
    "version": 3
   },
   "file_extension": ".py",
   "mimetype": "text/x-python",
   "name": "python",
   "nbconvert_exporter": "python",
   "pygments_lexer": "ipython3",
   "version": "3.6.3"
  }
 },
 "nbformat": 4,
 "nbformat_minor": 2
}
