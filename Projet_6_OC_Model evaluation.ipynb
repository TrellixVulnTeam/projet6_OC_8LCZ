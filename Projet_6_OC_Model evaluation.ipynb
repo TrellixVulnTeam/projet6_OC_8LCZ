{
 "cells": [
  {
   "cell_type": "markdown",
   "metadata": {},
   "source": [
    "# Catégoriser automatiquement des questions : OC projet 6 #"
   ]
  },
  {
   "cell_type": "markdown",
   "metadata": {},
   "source": [
    "## Génération d'un jeu de test pour le projet 6:  ##"
   ]
  },
  {
   "cell_type": "markdown",
   "metadata": {},
   "source": [
    "Nous allons utiliser un ensemble de questions complétement indépendant des données utilisées pour l'entrainement afin d'évaluer la qualité de prédiction de nos algorithmes. Nous évaluerons ces algorithmes sur un ensemble de 10000 questions."
   ]
  },
  {
   "cell_type": "code",
   "execution_count": 1,
   "metadata": {
    "collapsed": true
   },
   "outputs": [],
   "source": [
    "import pandas as pd\n",
    "import numpy as np\n",
    "import nltk\n",
    "import seaborn as sns\n",
    "import matplotlib.pyplot as plt\n",
    "import string\n",
    "import re\n",
    "\n",
    "from bs4 import BeautifulSoup\n",
    "from nltk.corpus import stopwords\n",
    "from nltk.stem import WordNetLemmatizer\n",
    "from nltk.corpus import wordnet\n",
    "from nltk.stem.snowball import SnowballStemmer\n",
    "from nltk.tokenize import word_tokenize"
   ]
  },
  {
   "cell_type": "markdown",
   "metadata": {},
   "source": [
    "## I - Importation des données : ##"
   ]
  },
  {
   "cell_type": "code",
   "execution_count": 2,
   "metadata": {
    "collapsed": true
   },
   "outputs": [],
   "source": [
    "table_raw = []\n",
    "for i in range(5):\n",
    "    df = pd.read_csv(f\"QueryResults_{i + 20}.csv\", sep=\",\", encoding=\"utf-8\")\n",
    "    table_raw.append(df)\n",
    "table_raw = pd.concat(table_raw)\n",
    "table_raw.drop_duplicates(inplace=True)\n",
    "table_raw.dropna(axis=0, how=\"any\", subset=[\"Title\"], inplace=True)\n",
    "table_raw.reset_index(inplace=True)"
   ]
  },
  {
   "cell_type": "markdown",
   "metadata": {},
   "source": [
    "## II- Traitement des données : ##"
   ]
  },
  {
   "cell_type": "code",
   "execution_count": 3,
   "metadata": {},
   "outputs": [
    {
     "data": {
      "text/plain": [
       "(66232, 23)"
      ]
     },
     "execution_count": 3,
     "metadata": {},
     "output_type": "execute_result"
    }
   ],
   "source": [
    "table_raw.shape"
   ]
  },
  {
   "cell_type": "code",
   "execution_count": 4,
   "metadata": {
    "collapsed": true
   },
   "outputs": [],
   "source": [
    "table_raw.dropna(axis=1, how=\"any\", inplace=True)\n",
    "table_raw.drop([\"index\", \"Id\", \"PostTypeId\", \"ViewCount\", \n",
    "                \"LastActivityDate\", \"AnswerCount\", \"CommentCount\"], axis=1, inplace=True)"
   ]
  },
  {
   "cell_type": "code",
   "execution_count": 7,
   "metadata": {
    "collapsed": true
   },
   "outputs": [],
   "source": [
    "table_eval = table_raw.sample(frac=0.15)"
   ]
  },
  {
   "cell_type": "code",
   "execution_count": 8,
   "metadata": {},
   "outputs": [
    {
     "data": {
      "text/plain": [
       "(9935, 5)"
      ]
     },
     "execution_count": 8,
     "metadata": {},
     "output_type": "execute_result"
    }
   ],
   "source": [
    "table_eval.shape"
   ]
  },
  {
   "cell_type": "markdown",
   "metadata": {},
   "source": [
    "### III- Nettoyage des données: ##"
   ]
  },
  {
   "cell_type": "code",
   "execution_count": 10,
   "metadata": {
    "collapsed": true
   },
   "outputs": [],
   "source": [
    "table_eval[\"Body\"] = table_eval[\"Body\"].apply(lambda x:BeautifulSoup(x, \"html.parser\").get_text())"
   ]
  },
  {
   "cell_type": "code",
   "execution_count": 11,
   "metadata": {
    "collapsed": true
   },
   "outputs": [],
   "source": [
    "table_eval[\"Tags\"] = table_eval[\"Tags\"].apply(lambda x: re.sub(r'><',' ',x))\n",
    "table_eval[\"Tags\"] = table_eval[\"Tags\"].apply(lambda x: re.sub(r'[<>]','',x).split())"
   ]
  },
  {
   "cell_type": "code",
   "execution_count": 12,
   "metadata": {
    "collapsed": true
   },
   "outputs": [],
   "source": [
    "table_eval[\"BodyTitle\"] = table_eval[\"Title\"] + \" \" + table_eval[\"Body\"] "
   ]
  },
  {
   "cell_type": "code",
   "execution_count": 13,
   "metadata": {},
   "outputs": [
    {
     "data": {
      "text/html": [
       "<div>\n",
       "<style>\n",
       "    .dataframe thead tr:only-child th {\n",
       "        text-align: right;\n",
       "    }\n",
       "\n",
       "    .dataframe thead th {\n",
       "        text-align: left;\n",
       "    }\n",
       "\n",
       "    .dataframe tbody tr th {\n",
       "        vertical-align: top;\n",
       "    }\n",
       "</style>\n",
       "<table border=\"1\" class=\"dataframe\">\n",
       "  <thead>\n",
       "    <tr style=\"text-align: right;\">\n",
       "      <th></th>\n",
       "      <th>CreationDate</th>\n",
       "      <th>Score</th>\n",
       "      <th>Body</th>\n",
       "      <th>Title</th>\n",
       "      <th>Tags</th>\n",
       "      <th>BodyTitle</th>\n",
       "    </tr>\n",
       "  </thead>\n",
       "  <tbody>\n",
       "    <tr>\n",
       "      <th>60921</th>\n",
       "      <td>2011-02-25 12:32:06</td>\n",
       "      <td>16</td>\n",
       "      <td>My Eclipse Java package is treated as a folder...</td>\n",
       "      <td>Why is my Eclipse Java package being treated a...</td>\n",
       "      <td>[java, eclipse, package]</td>\n",
       "      <td>Why is my Eclipse Java package being treated a...</td>\n",
       "    </tr>\n",
       "    <tr>\n",
       "      <th>19397</th>\n",
       "      <td>2010-12-21 02:11:39</td>\n",
       "      <td>7</td>\n",
       "      <td>I've been wondering how to do \"true\" (semi) re...</td>\n",
       "      <td>Best approach for (cross-platform) real-time d...</td>\n",
       "      <td>[php, javascript, push]</td>\n",
       "      <td>Best approach for (cross-platform) real-time d...</td>\n",
       "    </tr>\n",
       "    <tr>\n",
       "      <th>38220</th>\n",
       "      <td>2011-01-23 22:27:42</td>\n",
       "      <td>5</td>\n",
       "      <td>This one seems like an easy one, but I'm havin...</td>\n",
       "      <td>Calculating Base-n logarithm in Ruby</td>\n",
       "      <td>[ruby, math, logarithm]</td>\n",
       "      <td>Calculating Base-n logarithm in Ruby This one ...</td>\n",
       "    </tr>\n",
       "    <tr>\n",
       "      <th>12795</th>\n",
       "      <td>2010-11-16 08:33:22</td>\n",
       "      <td>18</td>\n",
       "      <td>I've researched a bit about how to achieve wha...</td>\n",
       "      <td>C# How to simply encrypt a text file with a PG...</td>\n",
       "      <td>[c#, encryption, public-key, pgp, public-key-e...</td>\n",
       "      <td>C# How to simply encrypt a text file with a PG...</td>\n",
       "    </tr>\n",
       "    <tr>\n",
       "      <th>56978</th>\n",
       "      <td>2011-02-20 07:26:35</td>\n",
       "      <td>12</td>\n",
       "      <td>I would like to return the contents of a cell ...</td>\n",
       "      <td>How can I detect when a user is finished editi...</td>\n",
       "      <td>[delphi, events, tstringgrid]</td>\n",
       "      <td>How can I detect when a user is finished editi...</td>\n",
       "    </tr>\n",
       "    <tr>\n",
       "      <th>64663</th>\n",
       "      <td>2011-03-03 02:43:09</td>\n",
       "      <td>13</td>\n",
       "      <td>I'm getting a lot of \"Unknown type\" warnings w...</td>\n",
       "      <td>Why doesn't Closure Compiler recognize type de...</td>\n",
       "      <td>[javascript, design-patterns, google-closure-c...</td>\n",
       "      <td>Why doesn't Closure Compiler recognize type de...</td>\n",
       "    </tr>\n",
       "    <tr>\n",
       "      <th>32638</th>\n",
       "      <td>2011-01-14 20:20:21</td>\n",
       "      <td>15</td>\n",
       "      <td>At my place of employment we have a temperamen...</td>\n",
       "      <td>Mirroring the official nuget package repository</td>\n",
       "      <td>[powershell, nuget]</td>\n",
       "      <td>Mirroring the official nuget package repositor...</td>\n",
       "    </tr>\n",
       "    <tr>\n",
       "      <th>657</th>\n",
       "      <td>2010-10-24 19:37:10</td>\n",
       "      <td>7</td>\n",
       "      <td>Suppose I have a class\\nclass C {\\n       C(in...</td>\n",
       "      <td>constructor with one default parameter</td>\n",
       "      <td>[c++, constructor, default-parameters]</td>\n",
       "      <td>constructor with one default parameter Suppose...</td>\n",
       "    </tr>\n",
       "    <tr>\n",
       "      <th>13167</th>\n",
       "      <td>2010-11-16 19:49:02</td>\n",
       "      <td>5</td>\n",
       "      <td>So, here's the problem.  iPhones are awesome, ...</td>\n",
       "      <td>Single request to multiple asynchronous responses</td>\n",
       "      <td>[iphone, objective-c, networking, httprequest,...</td>\n",
       "      <td>Single request to multiple asynchronous respon...</td>\n",
       "    </tr>\n",
       "    <tr>\n",
       "      <th>51092</th>\n",
       "      <td>2011-02-11 09:21:08</td>\n",
       "      <td>7</td>\n",
       "      <td>I have an interface TestInterface&lt;U,V&gt; that ha...</td>\n",
       "      <td>Guice annotatedWith for interface with Generics</td>\n",
       "      <td>[guice]</td>\n",
       "      <td>Guice annotatedWith for interface with Generic...</td>\n",
       "    </tr>\n",
       "  </tbody>\n",
       "</table>\n",
       "</div>"
      ],
      "text/plain": [
       "              CreationDate  Score  \\\n",
       "60921  2011-02-25 12:32:06     16   \n",
       "19397  2010-12-21 02:11:39      7   \n",
       "38220  2011-01-23 22:27:42      5   \n",
       "12795  2010-11-16 08:33:22     18   \n",
       "56978  2011-02-20 07:26:35     12   \n",
       "64663  2011-03-03 02:43:09     13   \n",
       "32638  2011-01-14 20:20:21     15   \n",
       "657    2010-10-24 19:37:10      7   \n",
       "13167  2010-11-16 19:49:02      5   \n",
       "51092  2011-02-11 09:21:08      7   \n",
       "\n",
       "                                                    Body  \\\n",
       "60921  My Eclipse Java package is treated as a folder...   \n",
       "19397  I've been wondering how to do \"true\" (semi) re...   \n",
       "38220  This one seems like an easy one, but I'm havin...   \n",
       "12795  I've researched a bit about how to achieve wha...   \n",
       "56978  I would like to return the contents of a cell ...   \n",
       "64663  I'm getting a lot of \"Unknown type\" warnings w...   \n",
       "32638  At my place of employment we have a temperamen...   \n",
       "657    Suppose I have a class\\nclass C {\\n       C(in...   \n",
       "13167  So, here's the problem.  iPhones are awesome, ...   \n",
       "51092  I have an interface TestInterface<U,V> that ha...   \n",
       "\n",
       "                                                   Title  \\\n",
       "60921  Why is my Eclipse Java package being treated a...   \n",
       "19397  Best approach for (cross-platform) real-time d...   \n",
       "38220               Calculating Base-n logarithm in Ruby   \n",
       "12795  C# How to simply encrypt a text file with a PG...   \n",
       "56978  How can I detect when a user is finished editi...   \n",
       "64663  Why doesn't Closure Compiler recognize type de...   \n",
       "32638    Mirroring the official nuget package repository   \n",
       "657               constructor with one default parameter   \n",
       "13167  Single request to multiple asynchronous responses   \n",
       "51092    Guice annotatedWith for interface with Generics   \n",
       "\n",
       "                                                    Tags  \\\n",
       "60921                           [java, eclipse, package]   \n",
       "19397                            [php, javascript, push]   \n",
       "38220                            [ruby, math, logarithm]   \n",
       "12795  [c#, encryption, public-key, pgp, public-key-e...   \n",
       "56978                      [delphi, events, tstringgrid]   \n",
       "64663  [javascript, design-patterns, google-closure-c...   \n",
       "32638                                [powershell, nuget]   \n",
       "657               [c++, constructor, default-parameters]   \n",
       "13167  [iphone, objective-c, networking, httprequest,...   \n",
       "51092                                            [guice]   \n",
       "\n",
       "                                               BodyTitle  \n",
       "60921  Why is my Eclipse Java package being treated a...  \n",
       "19397  Best approach for (cross-platform) real-time d...  \n",
       "38220  Calculating Base-n logarithm in Ruby This one ...  \n",
       "12795  C# How to simply encrypt a text file with a PG...  \n",
       "56978  How can I detect when a user is finished editi...  \n",
       "64663  Why doesn't Closure Compiler recognize type de...  \n",
       "32638  Mirroring the official nuget package repositor...  \n",
       "657    constructor with one default parameter Suppose...  \n",
       "13167  Single request to multiple asynchronous respon...  \n",
       "51092  Guice annotatedWith for interface with Generic...  "
      ]
     },
     "execution_count": 13,
     "metadata": {},
     "output_type": "execute_result"
    }
   ],
   "source": [
    "table_eval.head(10)"
   ]
  },
  {
   "cell_type": "markdown",
   "metadata": {},
   "source": [
    "### IV- Enregistrement des données de test: ##"
   ]
  },
  {
   "cell_type": "code",
   "execution_count": 14,
   "metadata": {
    "collapsed": true
   },
   "outputs": [],
   "source": [
    "table_eval.to_json(\"table_eval.json\")"
   ]
  },
  {
   "cell_type": "code",
   "execution_count": null,
   "metadata": {
    "collapsed": true
   },
   "outputs": [],
   "source": []
  }
 ],
 "metadata": {
  "kernelspec": {
   "display_name": "Python 3",
   "language": "python",
   "name": "python3"
  },
  "language_info": {
   "codemirror_mode": {
    "name": "ipython",
    "version": 3
   },
   "file_extension": ".py",
   "mimetype": "text/x-python",
   "name": "python",
   "nbconvert_exporter": "python",
   "pygments_lexer": "ipython3",
   "version": "3.6.3"
  }
 },
 "nbformat": 4,
 "nbformat_minor": 2
}
